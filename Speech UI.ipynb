{
 "cells": [
  {
   "cell_type": "code",
   "execution_count": null,
   "id": "0c2e7932",
   "metadata": {},
   "outputs": [],
   "source": [
    "import tkinter as tk\n",
    "from tkinter import ttk\n",
    "from tkinter import messagebox\n",
    "from tkinter import simpledialog\n",
    "\n",
    "\n",
    "# Emoji icons \n",
    "microphone_icon = \"🎤\"\n",
    "happy_emoji = \"😄\"\n",
    "sad_emoji = \"😢\"\n",
    "angry_emoji = \"😡\"\n",
    "\n",
    "# Creating a function to start recording audio\n",
    "def start_recording():\n",
    "    global is_recording\n",
    "    is_recording = True\n",
    "    record_button[\"state\"] = \"disabled\"\n",
    "    stop_button[\"state\"] = \"normal\"\n",
    "    status_label.config(text=\"Recording \" + microphone_icon)\n",
    "\n",
    "# Creating a function to stop recording audio and analyze emotion\n",
    "def stop_recording():\n",
    "    global is_recording\n",
    "    is_recording = False\n",
    "    record_button[\"state\"] = \"normal\"\n",
    "    stop_button[\"state\"] = \"disabled\"\n",
    "    status_label.config(text=\"Emotion Analysis \" + happy_emoji)\n",
    "    \n",
    "\n",
    "# Create the main window\n",
    "root = tk.Tk()\n",
    "root.title(\"Speech Emotion Analyzer\")\n",
    "\n",
    "# Create UI elements\n",
    "label = ttk.Label(root, text=\"Speech Emotion Analyzer\")\n",
    "record_button = ttk.Button(root, text=\"Record\", command=start_recording)\n",
    "stop_button = ttk.Button(root, text=\"Stop\", command=stop_recording, state=\"disabled\")\n",
    "emotion_label = ttk.Label(root, text=\"Detected Emotion: \" + happy_emoji)\n",
    "status_label = ttk.Label(root, text=\"Status: \")\n",
    "status_label.config(font=(\"Arial\", 12))\n",
    "\n",
    "# Place UI elements on the window\n",
    "label.grid(row=0, column=0, columnspan=2, padx=10, pady=10)\n",
    "record_button.grid(row=1, column=0, padx=10, pady=10)\n",
    "stop_button.grid(row=1, column=1, padx=10, pady=10)\n",
    "emotion_label.grid(row=2, column=0, columnspan=2, padx=10, pady=10)\n",
    "status_label.grid(row=3, column=0, columnspan=2, padx=10, pady=10)\n",
    "\n",
    "# Initialize the recording state variable\n",
    "is_recording = False\n",
    "\n",
    "# Start the GUI main loop\n",
    "root.mainloop()\n"
   ]
  },
  {
   "cell_type": "code",
   "execution_count": null,
   "id": "757f7acd",
   "metadata": {},
   "outputs": [],
   "source": []
  }
 ],
 "metadata": {
  "kernelspec": {
   "display_name": "Python 3 (ipykernel)",
   "language": "python",
   "name": "python3"
  },
  "language_info": {
   "codemirror_mode": {
    "name": "ipython",
    "version": 3
   },
   "file_extension": ".py",
   "mimetype": "text/x-python",
   "name": "python",
   "nbconvert_exporter": "python",
   "pygments_lexer": "ipython3",
   "version": "3.9.13"
  }
 },
 "nbformat": 4,
 "nbformat_minor": 5
}
