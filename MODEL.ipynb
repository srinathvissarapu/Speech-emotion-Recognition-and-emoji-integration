{
  "nbformat": 4,
  "nbformat_minor": 0,
  "metadata": {
    "colab": {
      "provenance": []
    },
    "kernelspec": {
      "name": "python3",
      "display_name": "Python 3"
    },
    "language_info": {
      "name": "python"
    }
  },
  "cells": [
    {
      "cell_type": "code",
      "execution_count": null,
      "metadata": {
        "id": "Cu03W4CakU-z"
      },
      "outputs": [],
      "source": []
    },
    {
      "cell_type": "code",
      "metadata": {
        "colab": {
          "base_uri": "https://localhost:8080/"
        },
        "collapsed": true,
        "id": "8nYS9qahzAQ_",
        "outputId": "94882704-f552-4133-d488-c30b99b5031a"
      },
      "source": [
        "from google.colab import drive\n",
        "drive.mount('/content/drive', force_remount = True)"
      ],
      "execution_count": null,
      "outputs": [
        {
          "output_type": "stream",
          "name": "stdout",
          "text": [
            "Mounted at /content/drive\n"
          ]
        }
      ]
    },
    {
      "cell_type": "code",
      "metadata": {
        "id": "K31C-zTfZdFa"
      },
      "source": [
        "%%capture\n",
        "!pip install pydub\n",
        "!pip install noisereduce\n",
        "!pip install json-tricks"
      ],
      "execution_count": null,
      "outputs": []
    },
    {
      "cell_type": "code",
      "metadata": {
        "id": "li2EfZXmQehM"
      },
      "source": [
        "%%capture\n",
        "import numpy as np\n",
        "import os\n",
        "from json_tricks import dump, load\n",
        "\n",
        "from pydub import AudioSegment, effects\n",
        "import librosa\n",
        "import noisereduce as nr\n",
        "\n",
        "import tensorflow as tf\n",
        "import keras\n",
        "import sklearn"
      ],
      "execution_count": null,
      "outputs": []
    },
    {
      "cell_type": "code",
      "metadata": {
        "id": "lUMWt35lTQQL"
      },
      "source": [
        "# Emotion kind validation function for TESS database, due to emotions written within the file names.\n",
        "def find_emotion_T(name):\n",
        "        if('neutral' in name): return \"01\"\n",
        "        elif('happy' in name): return \"03\"\n",
        "        elif('sad' in name): return \"04\"\n",
        "        elif('angry' in name): return \"05\"\n",
        "        elif('fear' in name): return \"06\"\n",
        "        elif('disgust' in name): return \"07\"\n",
        "        elif('ps' in name): return \"08\"\n",
        "        else: return \"-1\"\n",
        "\n",
        "\n",
        "# 'emotions' list fix for classification purposes:\n",
        "#     Classification values start from 0, Thus an 'n = n-1' operation has been executed for both RAVDESS and TESS databases:\n",
        "def emotionfix(e_num):\n",
        "    if e_num == \"01\":   return 0 # neutral\n",
        "    elif e_num == \"02\": return 1 # calm\n",
        "    elif e_num == \"03\": return 2 # happy\n",
        "    elif e_num == \"04\": return 3 # sad\n",
        "    elif e_num == \"05\": return 4 # angry\n",
        "    elif e_num == \"06\": return 5 # fear\n",
        "    elif e_num == \"07\": return 6 # disgust\n",
        "    else:               return 7 # suprised"
      ],
      "execution_count": null,
      "outputs": []
    },
    {
      "cell_type": "code",
      "source": [
        "sample_lengths = []\n",
        "folder_path = '/content/drive/MyDrive/Audio_Song_Actors_01-24 (1)'\n",
        "\n",
        "# Limit the number of files to process for testing (e.g., first 10 files)\n",
        "for subdir, dirs, files in os.walk(folder_path):\n",
        "    for file in files[:10]:  # Process the first 10 files\n",
        "        x, sr = librosa.load(path=os.path.join(subdir, file), sr=None)\n",
        "        xt, index = librosa.effects.trim(x, top_db=30)\n",
        "\n",
        "        sample_lengths.append(len(xt))\n",
        "\n",
        "print('Maximum sample length:', np.max(sample_lengths))\n"
      ],
      "metadata": {
        "colab": {
          "base_uri": "https://localhost:8080/"
        },
        "id": "cYv3-2J5sfKG",
        "outputId": "7c3b2e28-860b-480e-941e-44f627909253"
      },
      "execution_count": null,
      "outputs": [
        {
          "output_type": "stream",
          "name": "stdout",
          "text": [
            "Maximum sample length: 214528\n"
          ]
        }
      ]
    },
    {
      "cell_type": "code",
      "metadata": {
        "colab": {
          "base_uri": "https://localhost:8080/"
        },
        "outputId": "28b21766-48e9-4ed1-defa-140dfb4792b2",
        "id": "0lTZ0PLas6Ex"
      },
      "source": [
        "# Maximum samples count for padding purposes.\n",
        "\n",
        "sample_lengths = []\n",
        "folder_path = '/content/drive/My Drive/AudioFiles'\n",
        "\n",
        "for subdir, dirs, files in os.walk(folder_path):\n",
        "  for file in files:\n",
        "    x, sr = librosa.load(path = os.path.join(subdir,file), sr = None)\n",
        "    xt, index = librosa.effects.trim(x, top_db=30)\n",
        "\n",
        "    sample_lengths.append(len(xt))\n",
        "\n",
        "print('Maximum sample length:', np.max(sample_lengths))"
      ],
      "execution_count": null,
      "outputs": [
        {
          "output_type": "stream",
          "name": "stdout",
          "text": [
            "Maximum sample length: 173056\n"
          ]
        }
      ]
    },
    {
      "cell_type": "code",
      "source": [
        "import time\n",
        "tic = time.perf_counter()\n",
        "\n",
        "# Initialize data lists\n",
        "rms = []\n",
        "zcr = []\n",
        "mfcc = []\n",
        "emotions = []\n",
        "\n",
        "# Initialize variables\n",
        "total_length = 214528  # Desired frame length for all audio samples.\n",
        "frame_length = 2048\n",
        "hop_length = 512\n",
        "\n",
        "folder_path = '/content/drive/MyDrive/Audio_Song_Actors_01-24 (1)'\n",
        "\n",
        "for subdir, dirs, files in os.walk(folder_path):\n",
        "    for file in files:\n",
        "        # Fetch the sample rate.\n",
        "        _, sr = librosa.load(path=os.path.join(subdir, file), sr=None)  # sr (the sample rate) is used for librosa's MFCCs. '_' is irrelevant.\n",
        "        # Load the audio file.\n",
        "        rawsound = AudioSegment.from_file(os.path.join(subdir, file))\n",
        "        # Normalize the audio to +5.0 dBFS.\n",
        "        normalizedsound = effects.normalize(rawsound, headroom=0)\n",
        "        # Transform the normalized audio to np.array of samples.\n",
        "        normal_x = np.array(normalizedsound.get_array_of_samples(), dtype='float32')\n",
        "        # Trim silence from the beginning and the end.\n",
        "        xt, index = librosa.effects.trim(normal_x, top_db=30)\n",
        "\n",
        "        # Check if total_length exceeds the length of the trimmed audio\n",
        "        if total_length >= len(xt):\n",
        "            # Pad for duration equalization.\n",
        "            padded_x = np.pad(xt, (0, total_length - len(xt)), 'constant')\n",
        "        else:\n",
        "            padded_x = xt  # No padding if total_length is smaller\n",
        "\n",
        "        # Noise reduction.\n",
        "        final_x = nr.reduce_noise(y=padded_x, sr=sr)  # Updated 03/03/22\n",
        "\n",
        "        # Features extraction\n",
        "        f1 = librosa.feature.rms(y=final_x, frame_length=frame_length, hop_length=hop_length)  # Energy - Root Mean Square\n",
        "        f2 = librosa.feature.zero_crossing_rate(y=final_x, frame_length=frame_length, hop_length=hop_length, center=True)  # ZCR\n",
        "        f3 = librosa.feature.mfcc(y=final_x, sr=sr, n_mfcc=13, hop_length=hop_length)  # MFCC\n",
        "\n",
        "        # Emotion extraction from the different databases\n",
        "        if (find_emotion_T(file) != \"-1\"):  # TESS database validation\n",
        "            name = find_emotion_T(file)\n",
        "        else:  # RAVDESS database validation\n",
        "            name = file[6:8]\n",
        "\n",
        "        # Filling the data lists\n",
        "        rms.append(f1)\n",
        "        zcr.append(f2)\n",
        "        mfcc.append(f3)\n",
        "        emotions.append(emotionfix(name))\n",
        "\n",
        "toc = time.perf_counter()\n",
        "print(f\"Running time: {(toc - tic)/60:0.4f} minutes\")\n"
      ],
      "metadata": {
        "colab": {
          "base_uri": "https://localhost:8080/"
        },
        "id": "PFpGHlaotYEX",
        "outputId": "faa135e7-dfcf-4008-990b-00425ec7042b"
      },
      "execution_count": null,
      "outputs": [
        {
          "output_type": "stream",
          "name": "stdout",
          "text": [
            "Running time: 8.0875 minutes\n"
          ]
        }
      ]
    },
    {
      "cell_type": "code",
      "metadata": {
        "colab": {
          "base_uri": "https://localhost:8080/"
        },
        "outputId": "b7242b34-01d9-4668-9dfb-24542cfe7645",
        "id": "hMTWP7VNuEdk"
      },
      "source": [
        "import time\n",
        "tic = time.perf_counter()\n",
        "\n",
        "# Initialize data lists\n",
        "rms = []\n",
        "zcr = []\n",
        "mfcc = []\n",
        "emotions = []\n",
        "\n",
        "# Initialize variables\n",
        "total_length = 173056 # desired frame length for all of the audio samples.\n",
        "frame_length = 2048\n",
        "hop_length = 512\n",
        "\n",
        "folder_path = '/content/drive/My Drive/AudioFiles'\n",
        "\n",
        "for subdir, dirs, files in os.walk(folder_path):\n",
        "  for file in files:\n",
        "\n",
        "    # Fetch the sample rate.\n",
        "      _, sr = librosa.load(path = os.path.join(subdir,file), sr = None) # sr (the sample rate) is used for librosa's MFCCs. '_' is irrelevant.\n",
        "    # Load the audio file.\n",
        "      rawsound = AudioSegment.from_file(os.path.join(subdir,file))\n",
        "    # Normalize the audio to +5.0 dBFS.\n",
        "      normalizedsound = effects.normalize(rawsound, headroom = 0)\n",
        "    # Transform the normalized audio to np.array of samples.\n",
        "      normal_x = np.array(normalizedsound.get_array_of_samples(), dtype = 'float32')\n",
        "    # Trim silence from the beginning and the end.\n",
        "      xt, index = librosa.effects.trim(normal_x, top_db=30)\n",
        "      #print(file,\"\\t\", len(xt), \"\\t\", rawsound.dBFS, \"\\t\", normalizedsound.dBFS) #--QA purposes if needed--\n",
        "    # Pad for duration equalization.\n",
        "      padded_x = np.pad(xt, (0, total_length-len(xt)), 'constant')\n",
        "    # Noise reduction.\n",
        "      final_x = nr.reduce_noise(padded_x, sr=sr) #updated 03/03/22\n",
        "\n",
        "   # Features extraction\n",
        "      f1 = librosa.feature.rms(final_x, frame_length=frame_length, hop_length=hop_length) # Energy - Root Mean Square\n",
        "      f2 = librosa.feature.zero_crossing_rate(final_x , frame_length=frame_length, hop_length=hop_length, center=True) # ZCR\n",
        "      f3 = librosa.feature.mfcc(final_x, sr=sr, n_mfcc=13, hop_length = hop_length) # MFCC\n",
        "\n",
        "   # Emotion extraction from the different databases\n",
        "      if (find_emotion_T(file) != \"-1\"): #TESS database validation\n",
        "            name = find_emotion_T(file)\n",
        "      else:                              #RAVDESS database validation\n",
        "            name = file[6:8]\n",
        "\n",
        "   # Filling the data lists\n",
        "      rms.append(f1)\n",
        "      zcr.append(f2)\n",
        "      mfcc.append(f3)\n",
        "      emotions.append(emotionfix(name))\n",
        "\n",
        "toc = time.perf_counter()\n",
        "print(f\"Running time: {(toc - tic)/60:0.4f} minutes\")"
      ],
      "execution_count": null,
      "outputs": [
        {
          "output_type": "stream",
          "name": "stdout",
          "text": [
            "Running time: 12.7427 minutes\n"
          ]
        }
      ]
    },
    {
      "cell_type": "code",
      "metadata": {
        "colab": {
          "base_uri": "https://localhost:8080/"
        },
        "id": "DFP_FOZsp6qO",
        "outputId": "30439272-5484-41f6-aaa6-b9b154502d6f"
      },
      "source": [
        "# Initialize lists for RMS, ZCR, and MFCCs\n",
        "rms = []\n",
        "zcr = []\n",
        "mfcc = []\n",
        "\n",
        "# Initialize variables\n",
        "total_length = 214528  # Desired frame length for all audio samples.\n",
        "frame_length = 2048\n",
        "hop_length = 512\n",
        "\n",
        "folder_path = '/content/drive/MyDrive/Audio_Song_Actors_01-24 (1)'\n",
        "\n",
        "for subdir, dirs, files in os.walk(folder_path):\n",
        "    for file in files:\n",
        "        # ... (previous code to load and process audio) ...\n",
        "\n",
        "        # Pad or truncate the features to have a consistent shape\n",
        "        max_features_length = 100  # Adjust as needed\n",
        "        if f1.shape[1] < max_features_length:\n",
        "            f1 = np.pad(f1, ((0, 0), (0, max_features_length - f1.shape[1])), mode='constant')\n",
        "        else:\n",
        "            f1 = f1[:, :max_features_length]\n",
        "\n",
        "        if f2.shape[1] < max_features_length:\n",
        "            f2 = np.pad(f2, ((0, 0), (0, max_features_length - f2.shape[1])), mode='constant')\n",
        "        else:\n",
        "            f2 = f2[:, :max_features_length]\n",
        "\n",
        "        if f3.shape[1] < max_features_length:\n",
        "            f3 = np.pad(f3, ((0, 0), (0, max_features_length - f3.shape[1])), mode='constant')\n",
        "        else:\n",
        "            f3 = f3[:, :max_features_length]\n",
        "\n",
        "        # Append the features to the respective lists\n",
        "        rms.append(f1)\n",
        "        zcr.append(f2)\n",
        "        mfcc.append(f3)\n",
        "\n",
        "# Now, you can convert the lists to NumPy arrays\n",
        "f_rms = np.asarray(rms).astype('float32')\n",
        "f_zcr = np.asarray(zcr).astype('float32')\n",
        "f_mfccs = np.asarray(mfcc).astype('float32')\n",
        "\n",
        "# Adjust the shape\n",
        "f_rms = np.swapaxes(f_rms, 1, 2)\n",
        "f_zcr = np.swapaxes(f_zcr, 1, 2)\n",
        "f_mfccs = np.swapaxes(f_mfccs, 1, 2)\n",
        "\n",
        "print('ZCR shape:', f_zcr.shape)\n",
        "print('RMS shape:', f_rms.shape)\n",
        "print('MFCCs shape:', f_mfccs.shape)\n"
      ],
      "execution_count": null,
      "outputs": [
        {
          "output_type": "stream",
          "name": "stdout",
          "text": [
            "ZCR shape: (1012, 100, 1)\n",
            "RMS shape: (1012, 100, 1)\n",
            "MFCCs shape: (1012, 100, 13)\n"
          ]
        }
      ]
    },
    {
      "cell_type": "code",
      "metadata": {
        "colab": {
          "base_uri": "https://localhost:8080/"
        },
        "outputId": "6cea5cd1-da8c-4502-8373-7aec1d75a2a7",
        "id": "ETxliljrx34_"
      },
      "source": [
        "# Adjusting features shape to the 3D format: (batch, timesteps, feature)\n",
        "\n",
        "f_rms = np.asarray(rms).astype('float32')\n",
        "f_rms = np.swapaxes(f_rms,1,2)\n",
        "f_zcr = np.asarray(zcr).astype('float32')\n",
        "f_zcr = np.swapaxes(f_zcr,1,2)\n",
        "f_mfccs = np.asarray(mfcc).astype('float32')\n",
        "f_mfccs = np.swapaxes(f_mfccs,1,2)\n",
        "\n",
        "print('ZCR shape:',f_zcr.shape)\n",
        "print('RMS shape:',f_rms.shape)\n",
        "print('MFCCs shape:',f_mfccs.shape)"
      ],
      "execution_count": null,
      "outputs": [
        {
          "output_type": "stream",
          "name": "stdout",
          "text": [
            "ZCR shape: (4232, 339, 1)\n",
            "RMS shape: (4232, 339, 1)\n",
            "MFCCs shape: (4232, 339, 13)\n"
          ]
        }
      ]
    },
    {
      "cell_type": "code",
      "source": [
        "# Concatenating all features to 'X' variable.\n",
        "X = np.concatenate((f_zcr, f_rms, f_mfccs), axis=2)\n",
        "\n",
        "# Preparing 'Y' as a 2D shaped variable.\n",
        "Y = np.asarray(emotions).astype('int8')\n",
        "Y = np.expand_dims(Y, axis=1)"
      ],
      "metadata": {
        "id": "WSK0JjBrx81u"
      },
      "execution_count": null,
      "outputs": []
    },
    {
      "cell_type": "code",
      "metadata": {
        "id": "wSpXqgJqMHvR"
      },
      "source": [
        "# Concatenating all features to 'X' variable.\n",
        "X = np.concatenate((f_zcr, f_rms, f_mfccs), axis=2)\n",
        "\n",
        "# Preparing 'Y' as a 2D shaped variable.\n",
        "Y = np.asarray(emotions).astype('int8')\n",
        "Y = np.expand_dims(Y, axis=1)"
      ],
      "execution_count": null,
      "outputs": []
    },
    {
      "cell_type": "code",
      "metadata": {
        "id": "JZR2SoDp61pR",
        "colab": {
          "base_uri": "https://localhost:8080/",
          "height": 174
        },
        "outputId": "aacd368c-5ae9-4008-a431-438398dd0cda"
      },
      "source": [
        "# Save X,Y arrays as lists to json files.\n",
        "\n",
        "x_data = X.tolist()\n",
        "x_path = '/content/drive/My Drive/Colab Notebooks/X_datanew.json' # FILE SAVE PATH\n",
        "dump(obj = x_data, fp = x_path)\n",
        "\n",
        "y_data = Y.tolist()\n",
        "y_path = '/content/drive/My Drive/Colab Notebooks/Y_datanew.json' # FILE SAVE PATH\n",
        "dump(obj = y_data, fp = y_path)\n"
      ],
      "execution_count": null,
      "outputs": [
        {
          "output_type": "execute_result",
          "data": {
            "text/plain": [
              "'[[0], [1], [0], [1], [1], [2], [1], [0], [1], [3], [2], [3], [1], [2], [1], [1], [2], [0], [2], [2], [3], [2], [2], [3], [3], [3], [5], [5], [3], [5], [3], [4], [4], [5], [5], [4], [4], [4], [5], [5], [4], [4], [5], [4], [0], [2], [2], [0], [1], [2], [1], [1], [1], [0], [3], [1], [1], [2], [2], [0], [1], [1], [2], [3], [2], [3], [2], [4], [4], [3], [5], [3], [5], [4], [5], [4], [5], [4], [3], [5], [5], [4], [4], [5], [3], [4], [3], [5], [1], [0], [0], [1], [1], [0], [0], [1], [2], [2], [3], [1], [3], [2], [2], [3], [1], [2], [3], [3], [3], [2], [1], [1], [3], [3], [2], [2], [5], [4], [5], [4], [4], [5], [4], [4], [5], [5], [4], [5], [5], [5], [4], [4], [0], [1], [1], [2], [1], [1], [0], [0], [3], [2], [1], [2], [1], [1], [2], [2], [0], [2], [2], [1], [2], [3], [3], [4], [5], [4], [5], [3], [4], [4], [5], [4], [4], [5], [5], [4], [3], [5], [3], [5], [4], [5], [3], [3], [1], [0], [1], [1], [1], [1], [0], [1], [0], [0], [1], [2], [2], [4], [3], [3], [2], [1], [3], [4], [4], [2], [3], [3], [2], [3], [2], [4], [2], [3], [2], [3], [5], [4], [5], [5], [4], [4], [5], [4], [5], [5], [5], [5], [0], [0], [1], [2], [1], [1], [0], [1], [1], [1], [1], [3], [2], [2], [3], [3], [2], [3], [2], [0], [1], [2], [2], [3], [2], [4], [4], [4], [3], [4], [5], [5], [5], [5], [4], [3], [4], [5], [4], [4], [3], [5], [5], [5], [0], [0], [0], [2], [2], [2], [3], [1], [1], [0], [1], [1], [2], [3], [1], [2], [2], [1], [1], [3], [1], [2], [2], [4], [5], [3], [4], [4], [5], [3], [3], [4], [5], [4], [4], [4], [5], [5], [5], [3], [4], [5], [3], [5], [2], [1], [1], [1], [2], [2], [0], [1], [1], [2], [0], [0], [2], [1], [1], [2], [0], [1], [2], [4], [4], [3], [4], [3], [4], [3], [4], [4], [3], [5], [3], [4], [3], [2], [3], [4], [3], [5], [5], [5], [5], [5], [5], [5], [0], [3], [2], [1], [1], [1], [2], [0], [1], [2], [2], [2], [1], [0], [1], [0], [3], [1], [2], [2], [3], [3], [1], [2], [5], [5], [5], [3], [5], [5], [3], [4], [4], [4], [3], [5], [5], [4], [4], [3], [5], [4], [4], [4], [1], [1], [1], [0], [0], [1], [0], [1], [0], [3], [3], [1], [3], [2], [3], [2], [2], [1], [2], [1], [2], [3], [2], [3], [2], [3], [2], [3], [4], [4], [5], [5], [5], [5], [4], [5], [4], [4], [4], [5], [5], [5], [4], [4], [0], [0], [0], [0], [2], [1], [1], [2], [1], [1], [2], [2], [1], [2], [1], [1], [1], [4], [2], [3], [3], [2], [3], [4], [3], [3], [4], [3], [4], [3], [2], [3], [4], [4], [4], [5], [5], [4], [5], [5], [5], [5], [5], [5], [1], [0], [0], [0], [1], [0], [1], [1], [3], [2], [1], [3], [4], [2], [2], [1], [2], [1], [3], [4], [3], [2], [3], [3], [1], [3], [2], [2], [4], [4], [3], [2], [4], [5], [5], [5], [4], [4], [4], [5], [5], [5], [5], [5], [1], [1], [1], [1], [1], [0], [2], [1], [2], [0], [0], [0], [1], [2], [2], [2], [1], [3], [4], [3], [4], [2], [4], [4], [4], [2], [3], [5], [4], [5], [5], [4], [3], [3], [3], [2], [3], [3], [4], [5], [5], [5], [5], [5], [0], [0], [1], [1], [0], [1], [0], [1], [1], [2], [2], [2], [2], [2], [1], [2], [3], [2], [1], [2], [1], [4], [4], [3], [3], [3], [4], [3], [3], [4], [3], [3], [4], [4], [5], [5], [5], [4], [4], [5], [5], [5], [5], [5], [0], [0], [0], [0], [1], [1], [1], [2], [3], [3], [1], [2], [1], [3], [2], [2], [2], [1], [3], [1], [3], [2], [2], [2], [1], [5], [5], [3], [5], [5], [3], [5], [4], [4], [3], [5], [4], [5], [4], [5], [4], [4], [4], [4], [1], [0], [1], [0], [1], [0], [0], [1], [1], [3], [2], [3], [2], [3], [1], [3], [3], [2], [1], [2], [4], [1], [2], [2], [3], [3], [3], [2], [2], [4], [4], [4], [5], [5], [5], [5], [5], [5], [4], [4], [4], [4], [5], [5], [2], [0], [2], [0], [1], [2], [1], [1], [1], [1], [0], [1], [0], [1], [2], [1], [2], [2], [5], [3], [3], [4], [3], [3], [4], [3], [3], [4], [3], [3], [4], [2], [4], [4], [4], [2], [4], [5], [5], [5], [5], [5], [5], [5], [1], [1], [1], [0], [0], [1], [0], [1], [1], [0], [1], [2], [3], [2], [3], [4], [2], [3], [3], [3], [3], [2], [2], [2], [3], [4], [2], [2], [4], [1], [3], [5], [5], [4], [5], [4], [5], [5], [5], [4], [5], [4], [4], [5], [0], [0], [1], [1], [1], [1], [1], [2], [1], [2], [0], [1], [2], [1], [0], [4], [3], [4], [2], [3], [2], [3], [2], [3], [2], [3], [3], [3], [4], [4], [2], [3], [5], [4], [5], [4], [5], [5], [5], [4], [5], [4], [5], [5], [0], [0], [0], [0], [1], [1], [1], [1], [2], [1], [2], [2], [2], [2], [2], [1], [1], [2], [1], [4], [3], [3], [4], [3], [4], [4], [2], [3], [4], [5], [4], [3], [3], [4], [5], [4], [5], [5], [3], [5], [3], [5], [5], [5], [0], [0], [0], [2], [1], [2], [1], [2], [1], [1], [2], [1], [1], [2], [2], [3], [1], [2], [2], [0], [1], [4], [5], [4], [3], [3], [4], [3], [3], [4], [4], [4], [5], [3], [5], [3], [3], [5], [5], [5], [5], [4], [4], [5], [1], [1], [1], [0], [1], [0], [0], [1], [0], [1], [2], [1], [3], [3], [3], [2], [2], [3], [3], [2], [3], [2], [1], [2], [2], [3], [2], [5], [5], [4], [3], [5], [4], [5], [4], [4], [4], [4], [5], [4], [5], [4], [5], [5], [0], [0], [1], [0], [0], [1], [1], [2], [3], [3], [3], [1], [1], [3], [3], [2], [4], [2], [2], [4], [2], [2], [1], [3], [3], [3], [2], [2], [1], [1], [4], [5], [4], [4], [5], [5], [5], [4], [4], [5], [5], [5], [4], [5]]'"
            ],
            "application/vnd.google.colaboratory.intrinsic+json": {
              "type": "string"
            }
          },
          "metadata": {},
          "execution_count": 16
        }
      ]
    },
    {
      "cell_type": "code",
      "metadata": {
        "id": "oy53CmsODtSQ"
      },
      "source": [
        "# Load X,Y json files back into lists, convert to np.arrays\n",
        "\n",
        "x_path = '/content/drive/My Drive/Colab Notebooks/X_datanew.json' # FILE LOAD PATH\n",
        "X = load(x_path)\n",
        "X = np.asarray(X, dtype = 'float32')\n",
        "\n",
        "y_path = '/content/drive/My Drive/Colab Notebooks/Y_datanew.json' # FILE LOAD PATH\n",
        "Y = load(y_path)\n",
        "Y = np.asarray(Y, dtype = 'int8')"
      ],
      "execution_count": null,
      "outputs": []
    },
    {
      "cell_type": "code",
      "metadata": {
        "id": "h1Photkwq-bw"
      },
      "source": [
        "# Split to train, validation, and test sets.\n",
        "from sklearn.model_selection import train_test_split\n",
        "x_train, x_tosplit, y_train, y_tosplit = train_test_split(X, Y, test_size = 0.125, random_state = 1)\n",
        "x_val, x_test, y_val, y_test = train_test_split(x_tosplit, y_tosplit, test_size = 0.304, random_state = 1)\n",
        "\n",
        "#'One-hot' vectors for Y: emotion classification\n",
        "y_train_class = tf.keras.utils.to_categorical(y_train, 8, dtype = 'int8')\n",
        "y_val_class = tf.keras.utils.to_categorical(y_val, 8, dtype = 'int8')"
      ],
      "execution_count": null,
      "outputs": []
    },
    {
      "cell_type": "code",
      "source": [
        "# x_train, x_val, and x_test shape check.\n",
        "print(np.shape(x_train))\n",
        "print(np.shape(x_val))\n",
        "print(np.shape(x_test))"
      ],
      "metadata": {
        "colab": {
          "base_uri": "https://localhost:8080/"
        },
        "id": "nhOmoZuVyEJ_",
        "outputId": "1618418f-63a6-4ecb-ea2e-c6340e98ec4f"
      },
      "execution_count": null,
      "outputs": [
        {
          "output_type": "stream",
          "name": "stdout",
          "text": [
            "(885, 100, 15)\n",
            "(88, 100, 15)\n",
            "(39, 100, 15)\n"
          ]
        }
      ]
    },
    {
      "cell_type": "code",
      "metadata": {
        "colab": {
          "base_uri": "https://localhost:8080/"
        },
        "id": "NgRlZBJbMHvX",
        "outputId": "e8f0a462-16c6-47f5-94ea-5731fcbc4cbe"
      },
      "source": [
        "# x_train, x_val, and x_test shape check.\n",
        "print(np.shape(x_train))\n",
        "print(np.shape(x_val))\n",
        "print(np.shape(x_test))"
      ],
      "execution_count": null,
      "outputs": [
        {
          "output_type": "stream",
          "name": "stdout",
          "text": [
            "(3703, 339, 15)\n",
            "(368, 339, 15)\n",
            "(161, 339, 15)\n"
          ]
        }
      ]
    },
    {
      "cell_type": "code",
      "metadata": {
        "id": "aW4qJ9VogZJ2",
        "colab": {
          "base_uri": "https://localhost:8080/",
          "height": 70
        },
        "outputId": "cae986f9-a7b5-45e1-ca03-f8ed58300c94"
      },
      "source": [
        "# Save x_test, y_test to JSON.\n",
        "\n",
        "file_path = 'x_test_data.json'\n",
        "dump(obj = x_test, fp = file_path)\n",
        "\n",
        "file_path = 'y_test_data.json'\n",
        "dump(obj = y_test, fp = file_path)"
      ],
      "execution_count": null,
      "outputs": [
        {
          "output_type": "execute_result",
          "data": {
            "text/plain": [
              "'{\"__ndarray__\": [[1], [4], [2], [4], [5], [4], [3], [1], [5], [0], [4], [5], [3], [2], [0], [1], [2], [0], [3], [3], [0], [0], [2], [1], [5], [0], [4], [3], [1], [3], [3], [4], [4], [0], [4], [3], [1], [0], [1]], \"dtype\": \"int8\", \"shape\": [39, 1], \"Corder\": true}'"
            ],
            "application/vnd.google.colaboratory.intrinsic+json": {
              "type": "string"
            }
          },
          "metadata": {},
          "execution_count": 20
        }
      ]
    },
    {
      "cell_type": "code",
      "metadata": {
        "id": "1ROkmISHZCkM"
      },
      "source": [
        "from keras.models import Sequential\n",
        "from keras import layers\n",
        "from keras import optimizers\n",
        "from keras import callbacks"
      ],
      "execution_count": null,
      "outputs": []
    },
    {
      "cell_type": "code",
      "metadata": {
        "colab": {
          "base_uri": "https://localhost:8080/"
        },
        "id": "3DroQ71fXxPN",
        "outputId": "dc8bd838-1d3f-49e2-af68-6b17fc4deab7"
      },
      "source": [
        "# Initializing the model\n",
        "\n",
        "model = Sequential()\n",
        "model.add(layers.LSTM(64, return_sequences = True, input_shape=(X.shape[1:3])))\n",
        "model.add(layers.LSTM(64))\n",
        "model.add(layers.Dense(8, activation = 'softmax'))\n",
        "print(model.summary())\n",
        "\n",
        "batch_size = 23\n",
        "\n",
        "# Callbacks functions\n",
        "checkpoint_path = '/content/drive/My Drive/Colab Notebooks/best_weights.hdf5'\n",
        "\n",
        "#-> Save the best weights\n",
        "mcp_save = callbacks.ModelCheckpoint(checkpoint_path, save_best_only=True,\n",
        "                           monitor='val_categorical_accuracy',\n",
        "                           mode='max')\n",
        "#-> Reduce learning rate after 100 epoches without improvement.\n",
        "rlrop = callbacks.ReduceLROnPlateau(monitor='val_categorical_accuracy',\n",
        "                                    factor=0.1, patience=100)\n",
        "\n",
        "# Compile & train\n",
        "model.compile(loss='categorical_crossentropy',\n",
        "                optimizer='RMSProp',\n",
        "                metrics=['categorical_accuracy'])\n",
        "\n",
        "history = model.fit(x_train, y_train_class,\n",
        "                      epochs=340, batch_size = batch_size,\n",
        "                      validation_data = (x_val, y_val_class),\n",
        "                      callbacks = [mcp_save, rlrop])\n",
        "# Define the best weights to the model.\n",
        "model.load_weights(checkpoint_path)"
      ],
      "execution_count": null,
      "outputs": [
        {
          "output_type": "stream",
          "name": "stdout",
          "text": [
            "Model: \"sequential\"\n",
            "_________________________________________________________________\n",
            " Layer (type)                Output Shape              Param #   \n",
            "=================================================================\n",
            " lstm (LSTM)                 (None, 100, 64)           20480     \n",
            "                                                                 \n",
            " lstm_1 (LSTM)               (None, 64)                33024     \n",
            "                                                                 \n",
            " dense (Dense)               (None, 8)                 520       \n",
            "                                                                 \n",
            "=================================================================\n",
            "Total params: 54024 (211.03 KB)\n",
            "Trainable params: 54024 (211.03 KB)\n",
            "Non-trainable params: 0 (0.00 Byte)\n",
            "_________________________________________________________________\n",
            "None\n",
            "Epoch 1/340\n",
            "39/39 [==============================] - 6s 95ms/step - loss: 1.8569 - categorical_accuracy: 0.1379 - val_loss: 1.7624 - val_categorical_accuracy: 0.2841 - lr: 0.0010\n",
            "Epoch 2/340\n",
            " 2/39 [>.............................] - ETA: 2s - loss: 1.7842 - categorical_accuracy: 0.1957"
          ]
        },
        {
          "output_type": "stream",
          "name": "stderr",
          "text": [
            "/usr/local/lib/python3.10/dist-packages/keras/src/engine/training.py:3079: UserWarning: You are saving your model as an HDF5 file via `model.save()`. This file format is considered legacy. We recommend using instead the native Keras format, e.g. `model.save('my_model.keras')`.\n",
            "  saving_api.save_model(\n"
          ]
        },
        {
          "output_type": "stream",
          "name": "stdout",
          "text": [
            "39/39 [==============================] - 3s 66ms/step - loss: 1.7819 - categorical_accuracy: 0.2169 - val_loss: 1.7820 - val_categorical_accuracy: 0.2273 - lr: 0.0010\n",
            "Epoch 3/340\n",
            "39/39 [==============================] - 3s 67ms/step - loss: 1.7905 - categorical_accuracy: 0.1740 - val_loss: 1.7794 - val_categorical_accuracy: 0.1023 - lr: 0.0010\n",
            "Epoch 4/340\n",
            "39/39 [==============================] - 3s 65ms/step - loss: 1.7815 - categorical_accuracy: 0.1898 - val_loss: 1.8109 - val_categorical_accuracy: 0.1250 - lr: 0.0010\n",
            "Epoch 5/340\n",
            "39/39 [==============================] - 3s 79ms/step - loss: 1.7737 - categorical_accuracy: 0.1751 - val_loss: 1.7548 - val_categorical_accuracy: 0.2273 - lr: 0.0010\n",
            "Epoch 6/340\n",
            "39/39 [==============================] - 3s 71ms/step - loss: 1.7778 - categorical_accuracy: 0.1706 - val_loss: 1.7652 - val_categorical_accuracy: 0.1818 - lr: 0.0010\n",
            "Epoch 7/340\n",
            "39/39 [==============================] - 3s 67ms/step - loss: 1.7745 - categorical_accuracy: 0.1774 - val_loss: 1.7960 - val_categorical_accuracy: 0.1250 - lr: 0.0010\n",
            "Epoch 8/340\n",
            "39/39 [==============================] - 3s 67ms/step - loss: 1.7727 - categorical_accuracy: 0.1944 - val_loss: 1.7829 - val_categorical_accuracy: 0.1023 - lr: 0.0010\n",
            "Epoch 9/340\n",
            "39/39 [==============================] - 3s 66ms/step - loss: 1.7740 - categorical_accuracy: 0.1797 - val_loss: 1.7923 - val_categorical_accuracy: 0.1818 - lr: 0.0010\n",
            "Epoch 10/340\n",
            "39/39 [==============================] - 3s 84ms/step - loss: 1.7729 - categorical_accuracy: 0.1718 - val_loss: 1.7778 - val_categorical_accuracy: 0.1250 - lr: 0.0010\n",
            "Epoch 11/340\n",
            "39/39 [==============================] - 3s 66ms/step - loss: 1.7718 - categorical_accuracy: 0.1729 - val_loss: 1.8170 - val_categorical_accuracy: 0.1023 - lr: 0.0010\n",
            "Epoch 12/340\n",
            "39/39 [==============================] - 3s 66ms/step - loss: 1.7767 - categorical_accuracy: 0.1638 - val_loss: 1.7825 - val_categorical_accuracy: 0.1818 - lr: 0.0010\n",
            "Epoch 13/340\n",
            "39/39 [==============================] - 3s 66ms/step - loss: 1.7711 - categorical_accuracy: 0.1751 - val_loss: 1.8037 - val_categorical_accuracy: 0.1250 - lr: 0.0010\n",
            "Epoch 14/340\n",
            "39/39 [==============================] - 3s 72ms/step - loss: 1.7746 - categorical_accuracy: 0.1627 - val_loss: 1.7668 - val_categorical_accuracy: 0.2273 - lr: 0.0010\n",
            "Epoch 15/340\n",
            "39/39 [==============================] - 3s 78ms/step - loss: 1.7702 - categorical_accuracy: 0.1876 - val_loss: 1.7563 - val_categorical_accuracy: 0.1818 - lr: 0.0010\n",
            "Epoch 16/340\n",
            "39/39 [==============================] - 3s 66ms/step - loss: 1.7723 - categorical_accuracy: 0.1808 - val_loss: 1.7583 - val_categorical_accuracy: 0.2273 - lr: 0.0010\n",
            "Epoch 17/340\n",
            "39/39 [==============================] - 3s 67ms/step - loss: 1.7711 - categorical_accuracy: 0.1582 - val_loss: 1.7766 - val_categorical_accuracy: 0.1818 - lr: 0.0010\n",
            "Epoch 18/340\n",
            "39/39 [==============================] - 3s 67ms/step - loss: 1.7713 - categorical_accuracy: 0.1740 - val_loss: 1.7710 - val_categorical_accuracy: 0.1250 - lr: 0.0010\n",
            "Epoch 19/340\n",
            "39/39 [==============================] - 3s 78ms/step - loss: 1.7729 - categorical_accuracy: 0.1910 - val_loss: 1.7577 - val_categorical_accuracy: 0.1818 - lr: 0.0010\n",
            "Epoch 20/340\n",
            "39/39 [==============================] - 3s 74ms/step - loss: 1.7722 - categorical_accuracy: 0.1853 - val_loss: 1.7743 - val_categorical_accuracy: 0.1250 - lr: 0.0010\n",
            "Epoch 21/340\n",
            "39/39 [==============================] - 3s 66ms/step - loss: 1.7715 - categorical_accuracy: 0.1729 - val_loss: 1.7811 - val_categorical_accuracy: 0.1250 - lr: 0.0010\n",
            "Epoch 22/340\n",
            "39/39 [==============================] - 3s 68ms/step - loss: 1.7696 - categorical_accuracy: 0.1785 - val_loss: 1.7810 - val_categorical_accuracy: 0.1023 - lr: 0.0010\n",
            "Epoch 23/340\n",
            "39/39 [==============================] - 3s 66ms/step - loss: 1.7738 - categorical_accuracy: 0.1718 - val_loss: 1.7708 - val_categorical_accuracy: 0.1250 - lr: 0.0010\n",
            "Epoch 24/340\n",
            "39/39 [==============================] - 3s 82ms/step - loss: 1.7698 - categorical_accuracy: 0.1785 - val_loss: 1.7730 - val_categorical_accuracy: 0.2273 - lr: 0.0010\n",
            "Epoch 25/340\n",
            "39/39 [==============================] - 3s 68ms/step - loss: 1.7739 - categorical_accuracy: 0.1559 - val_loss: 1.7666 - val_categorical_accuracy: 0.1250 - lr: 0.0010\n",
            "Epoch 26/340\n",
            "39/39 [==============================] - 3s 66ms/step - loss: 1.7694 - categorical_accuracy: 0.1751 - val_loss: 1.7838 - val_categorical_accuracy: 0.1250 - lr: 0.0010\n",
            "Epoch 27/340\n",
            "39/39 [==============================] - 3s 67ms/step - loss: 1.7725 - categorical_accuracy: 0.1593 - val_loss: 1.7786 - val_categorical_accuracy: 0.1250 - lr: 0.0010\n",
            "Epoch 28/340\n",
            "39/39 [==============================] - 3s 67ms/step - loss: 1.7714 - categorical_accuracy: 0.1718 - val_loss: 1.7667 - val_categorical_accuracy: 0.1023 - lr: 0.0010\n",
            "Epoch 29/340\n",
            "39/39 [==============================] - 3s 83ms/step - loss: 1.7705 - categorical_accuracy: 0.1695 - val_loss: 1.7728 - val_categorical_accuracy: 0.1250 - lr: 0.0010\n",
            "Epoch 30/340\n",
            "39/39 [==============================] - 3s 68ms/step - loss: 1.7701 - categorical_accuracy: 0.1763 - val_loss: 1.7701 - val_categorical_accuracy: 0.1818 - lr: 0.0010\n",
            "Epoch 31/340\n",
            "39/39 [==============================] - 3s 67ms/step - loss: 1.7701 - categorical_accuracy: 0.1819 - val_loss: 1.7809 - val_categorical_accuracy: 0.1023 - lr: 0.0010\n",
            "Epoch 32/340\n",
            "39/39 [==============================] - 3s 76ms/step - loss: 1.7710 - categorical_accuracy: 0.1898 - val_loss: 1.7871 - val_categorical_accuracy: 0.1250 - lr: 0.0010\n",
            "Epoch 33/340\n",
            "39/39 [==============================] - 4s 90ms/step - loss: 1.7717 - categorical_accuracy: 0.1751 - val_loss: 1.7689 - val_categorical_accuracy: 0.1250 - lr: 0.0010\n",
            "Epoch 34/340\n",
            "39/39 [==============================] - 3s 70ms/step - loss: 1.7693 - categorical_accuracy: 0.1729 - val_loss: 1.8014 - val_categorical_accuracy: 0.1250 - lr: 0.0010\n",
            "Epoch 35/340\n",
            "39/39 [==============================] - 3s 67ms/step - loss: 1.7702 - categorical_accuracy: 0.1887 - val_loss: 1.7981 - val_categorical_accuracy: 0.1250 - lr: 0.0010\n",
            "Epoch 36/340\n",
            "39/39 [==============================] - 3s 66ms/step - loss: 1.7704 - categorical_accuracy: 0.1932 - val_loss: 1.7809 - val_categorical_accuracy: 0.1023 - lr: 0.0010\n",
            "Epoch 37/340\n",
            "39/39 [==============================] - 3s 66ms/step - loss: 1.7709 - categorical_accuracy: 0.1672 - val_loss: 1.7662 - val_categorical_accuracy: 0.1818 - lr: 0.0010\n",
            "Epoch 38/340\n",
            "39/39 [==============================] - 5s 123ms/step - loss: 1.7698 - categorical_accuracy: 0.1853 - val_loss: 1.7413 - val_categorical_accuracy: 0.2841 - lr: 0.0010\n",
            "Epoch 39/340\n",
            "39/39 [==============================] - 5s 123ms/step - loss: 1.7717 - categorical_accuracy: 0.1638 - val_loss: 1.7727 - val_categorical_accuracy: 0.2273 - lr: 0.0010\n",
            "Epoch 40/340\n",
            "39/39 [==============================] - 6s 145ms/step - loss: 1.7697 - categorical_accuracy: 0.1774 - val_loss: 1.7948 - val_categorical_accuracy: 0.1250 - lr: 0.0010\n",
            "Epoch 41/340\n",
            "39/39 [==============================] - 6s 148ms/step - loss: 1.7689 - categorical_accuracy: 0.1898 - val_loss: 1.7597 - val_categorical_accuracy: 0.1818 - lr: 0.0010\n",
            "Epoch 42/340\n",
            "39/39 [==============================] - 5s 140ms/step - loss: 1.7715 - categorical_accuracy: 0.1876 - val_loss: 1.7669 - val_categorical_accuracy: 0.1250 - lr: 0.0010\n",
            "Epoch 43/340\n",
            "39/39 [==============================] - 6s 160ms/step - loss: 1.7713 - categorical_accuracy: 0.1729 - val_loss: 1.7720 - val_categorical_accuracy: 0.1818 - lr: 0.0010\n",
            "Epoch 44/340\n",
            "39/39 [==============================] - 4s 115ms/step - loss: 1.7695 - categorical_accuracy: 0.1831 - val_loss: 1.7757 - val_categorical_accuracy: 0.1818 - lr: 0.0010\n",
            "Epoch 45/340\n",
            "39/39 [==============================] - 4s 114ms/step - loss: 1.7706 - categorical_accuracy: 0.1876 - val_loss: 1.7775 - val_categorical_accuracy: 0.1023 - lr: 0.0010\n",
            "Epoch 46/340\n",
            "39/39 [==============================] - 4s 112ms/step - loss: 1.7698 - categorical_accuracy: 0.1740 - val_loss: 1.7725 - val_categorical_accuracy: 0.2273 - lr: 0.0010\n",
            "Epoch 47/340\n",
            "39/39 [==============================] - 4s 105ms/step - loss: 1.7716 - categorical_accuracy: 0.1706 - val_loss: 1.7658 - val_categorical_accuracy: 0.1250 - lr: 0.0010\n",
            "Epoch 48/340\n",
            "39/39 [==============================] - 4s 94ms/step - loss: 1.7683 - categorical_accuracy: 0.1887 - val_loss: 1.7881 - val_categorical_accuracy: 0.1023 - lr: 0.0010\n",
            "Epoch 49/340\n",
            "39/39 [==============================] - 3s 82ms/step - loss: 1.7724 - categorical_accuracy: 0.1684 - val_loss: 1.7743 - val_categorical_accuracy: 0.1818 - lr: 0.0010\n",
            "Epoch 50/340\n",
            "39/39 [==============================] - 3s 69ms/step - loss: 1.7689 - categorical_accuracy: 0.1808 - val_loss: 1.7779 - val_categorical_accuracy: 0.2273 - lr: 0.0010\n",
            "Epoch 51/340\n",
            "39/39 [==============================] - 3s 66ms/step - loss: 1.7696 - categorical_accuracy: 0.1910 - val_loss: 1.7536 - val_categorical_accuracy: 0.1818 - lr: 0.0010\n",
            "Epoch 52/340\n",
            "39/39 [==============================] - 3s 66ms/step - loss: 1.7709 - categorical_accuracy: 0.1774 - val_loss: 1.7707 - val_categorical_accuracy: 0.1023 - lr: 0.0010\n",
            "Epoch 53/340\n",
            "39/39 [==============================] - 3s 73ms/step - loss: 1.7692 - categorical_accuracy: 0.1672 - val_loss: 1.7858 - val_categorical_accuracy: 0.1023 - lr: 0.0010\n",
            "Epoch 54/340\n",
            "39/39 [==============================] - 3s 76ms/step - loss: 1.7703 - categorical_accuracy: 0.1910 - val_loss: 1.7618 - val_categorical_accuracy: 0.2273 - lr: 0.0010\n",
            "Epoch 55/340\n",
            "39/39 [==============================] - 3s 65ms/step - loss: 1.7696 - categorical_accuracy: 0.1819 - val_loss: 1.7673 - val_categorical_accuracy: 0.1250 - lr: 0.0010\n",
            "Epoch 56/340\n",
            "39/39 [==============================] - 3s 67ms/step - loss: 1.7698 - categorical_accuracy: 0.1763 - val_loss: 1.7677 - val_categorical_accuracy: 0.1023 - lr: 0.0010\n",
            "Epoch 57/340\n",
            "39/39 [==============================] - 3s 66ms/step - loss: 1.7668 - categorical_accuracy: 0.1989 - val_loss: 1.7552 - val_categorical_accuracy: 0.1818 - lr: 0.0010\n",
            "Epoch 58/340\n",
            "39/39 [==============================] - 3s 77ms/step - loss: 1.7688 - categorical_accuracy: 0.1876 - val_loss: 1.7706 - val_categorical_accuracy: 0.1023 - lr: 0.0010\n",
            "Epoch 59/340\n",
            "39/39 [==============================] - 3s 72ms/step - loss: 1.7711 - categorical_accuracy: 0.1876 - val_loss: 1.7701 - val_categorical_accuracy: 0.1250 - lr: 0.0010\n",
            "Epoch 60/340\n",
            "39/39 [==============================] - 3s 67ms/step - loss: 1.7720 - categorical_accuracy: 0.1751 - val_loss: 1.7641 - val_categorical_accuracy: 0.1818 - lr: 0.0010\n",
            "Epoch 61/340\n",
            "39/39 [==============================] - 3s 65ms/step - loss: 1.7689 - categorical_accuracy: 0.1740 - val_loss: 1.7862 - val_categorical_accuracy: 0.1023 - lr: 0.0010\n",
            "Epoch 62/340\n",
            "39/39 [==============================] - 3s 69ms/step - loss: 1.7691 - categorical_accuracy: 0.1910 - val_loss: 1.7740 - val_categorical_accuracy: 0.1250 - lr: 0.0010\n",
            "Epoch 63/340\n",
            "39/39 [==============================] - 3s 86ms/step - loss: 1.7690 - categorical_accuracy: 0.1944 - val_loss: 1.7708 - val_categorical_accuracy: 0.2273 - lr: 0.0010\n",
            "Epoch 64/340\n",
            "39/39 [==============================] - 3s 67ms/step - loss: 1.7712 - categorical_accuracy: 0.1559 - val_loss: 1.7764 - val_categorical_accuracy: 0.1023 - lr: 0.0010\n",
            "Epoch 65/340\n",
            "39/39 [==============================] - 3s 68ms/step - loss: 1.7704 - categorical_accuracy: 0.1853 - val_loss: 1.7789 - val_categorical_accuracy: 0.1023 - lr: 0.0010\n",
            "Epoch 66/340\n",
            "39/39 [==============================] - 3s 75ms/step - loss: 1.7684 - categorical_accuracy: 0.1955 - val_loss: 1.7649 - val_categorical_accuracy: 0.1818 - lr: 0.0010\n",
            "Epoch 67/340\n",
            "39/39 [==============================] - 4s 94ms/step - loss: 1.7697 - categorical_accuracy: 0.1808 - val_loss: 1.7762 - val_categorical_accuracy: 0.1250 - lr: 0.0010\n",
            "Epoch 68/340\n",
            "39/39 [==============================] - 3s 72ms/step - loss: 1.7689 - categorical_accuracy: 0.1684 - val_loss: 1.7847 - val_categorical_accuracy: 0.1023 - lr: 0.0010\n",
            "Epoch 69/340\n",
            "39/39 [==============================] - 3s 66ms/step - loss: 1.7705 - categorical_accuracy: 0.1876 - val_loss: 1.7730 - val_categorical_accuracy: 0.1250 - lr: 0.0010\n",
            "Epoch 70/340\n",
            "39/39 [==============================] - 3s 66ms/step - loss: 1.7694 - categorical_accuracy: 0.1684 - val_loss: 1.7599 - val_categorical_accuracy: 0.2273 - lr: 0.0010\n",
            "Epoch 71/340\n",
            "39/39 [==============================] - 3s 67ms/step - loss: 1.7690 - categorical_accuracy: 0.1966 - val_loss: 1.7776 - val_categorical_accuracy: 0.1023 - lr: 0.0010\n",
            "Epoch 72/340\n",
            "39/39 [==============================] - 3s 84ms/step - loss: 1.7703 - categorical_accuracy: 0.1763 - val_loss: 1.7779 - val_categorical_accuracy: 0.1023 - lr: 0.0010\n",
            "Epoch 73/340\n",
            "39/39 [==============================] - 3s 66ms/step - loss: 1.7706 - categorical_accuracy: 0.1853 - val_loss: 1.7698 - val_categorical_accuracy: 0.1250 - lr: 0.0010\n",
            "Epoch 74/340\n",
            "39/39 [==============================] - 3s 67ms/step - loss: 1.7703 - categorical_accuracy: 0.1559 - val_loss: 1.7698 - val_categorical_accuracy: 0.2273 - lr: 0.0010\n",
            "Epoch 75/340\n",
            "39/39 [==============================] - 3s 66ms/step - loss: 1.7672 - categorical_accuracy: 0.2056 - val_loss: 1.7804 - val_categorical_accuracy: 0.1818 - lr: 0.0010\n",
            "Epoch 76/340\n",
            "39/39 [==============================] - 3s 70ms/step - loss: 1.7710 - categorical_accuracy: 0.1582 - val_loss: 1.7658 - val_categorical_accuracy: 0.1818 - lr: 0.0010\n",
            "Epoch 77/340\n",
            "39/39 [==============================] - 3s 78ms/step - loss: 1.7699 - categorical_accuracy: 0.1706 - val_loss: 1.7551 - val_categorical_accuracy: 0.2841 - lr: 0.0010\n",
            "Epoch 78/340\n",
            "39/39 [==============================] - 3s 65ms/step - loss: 1.7696 - categorical_accuracy: 0.1808 - val_loss: 1.7615 - val_categorical_accuracy: 0.1818 - lr: 0.0010\n",
            "Epoch 79/340\n",
            "39/39 [==============================] - 3s 68ms/step - loss: 1.7694 - categorical_accuracy: 0.1774 - val_loss: 1.7761 - val_categorical_accuracy: 0.1023 - lr: 0.0010\n",
            "Epoch 80/340\n",
            "39/39 [==============================] - 3s 65ms/step - loss: 1.7693 - categorical_accuracy: 0.1831 - val_loss: 1.7577 - val_categorical_accuracy: 0.2273 - lr: 0.0010\n",
            "Epoch 81/340\n",
            "39/39 [==============================] - 3s 75ms/step - loss: 1.7705 - categorical_accuracy: 0.1740 - val_loss: 1.7745 - val_categorical_accuracy: 0.1250 - lr: 0.0010\n",
            "Epoch 82/340\n",
            "39/39 [==============================] - 3s 75ms/step - loss: 1.7698 - categorical_accuracy: 0.1876 - val_loss: 1.7746 - val_categorical_accuracy: 0.1250 - lr: 0.0010\n",
            "Epoch 83/340\n",
            "39/39 [==============================] - 3s 65ms/step - loss: 1.7688 - categorical_accuracy: 0.1910 - val_loss: 1.7768 - val_categorical_accuracy: 0.1250 - lr: 0.0010\n",
            "Epoch 84/340\n",
            "39/39 [==============================] - 3s 66ms/step - loss: 1.7698 - categorical_accuracy: 0.1695 - val_loss: 1.7705 - val_categorical_accuracy: 0.2273 - lr: 0.0010\n",
            "Epoch 85/340\n",
            "39/39 [==============================] - 3s 64ms/step - loss: 1.7699 - categorical_accuracy: 0.1740 - val_loss: 1.7744 - val_categorical_accuracy: 0.1250 - lr: 0.0010\n",
            "Epoch 86/340\n",
            "39/39 [==============================] - 3s 76ms/step - loss: 1.7685 - categorical_accuracy: 0.1797 - val_loss: 1.7586 - val_categorical_accuracy: 0.1818 - lr: 0.0010\n",
            "Epoch 87/340\n",
            "39/39 [==============================] - 3s 72ms/step - loss: 1.7703 - categorical_accuracy: 0.1718 - val_loss: 1.7704 - val_categorical_accuracy: 0.1023 - lr: 0.0010\n",
            "Epoch 88/340\n",
            "39/39 [==============================] - 3s 65ms/step - loss: 1.7687 - categorical_accuracy: 0.1819 - val_loss: 1.7716 - val_categorical_accuracy: 0.1818 - lr: 0.0010\n",
            "Epoch 89/340\n",
            "39/39 [==============================] - 3s 66ms/step - loss: 1.7694 - categorical_accuracy: 0.1876 - val_loss: 1.7887 - val_categorical_accuracy: 0.1023 - lr: 0.0010\n",
            "Epoch 90/340\n",
            "39/39 [==============================] - 3s 66ms/step - loss: 1.7696 - categorical_accuracy: 0.1729 - val_loss: 1.7799 - val_categorical_accuracy: 0.2273 - lr: 0.0010\n",
            "Epoch 91/340\n",
            "39/39 [==============================] - 3s 79ms/step - loss: 1.7699 - categorical_accuracy: 0.1706 - val_loss: 1.7770 - val_categorical_accuracy: 0.1023 - lr: 0.0010\n",
            "Epoch 92/340\n",
            "39/39 [==============================] - 3s 69ms/step - loss: 1.7695 - categorical_accuracy: 0.1763 - val_loss: 1.7755 - val_categorical_accuracy: 0.1250 - lr: 0.0010\n",
            "Epoch 93/340\n",
            "39/39 [==============================] - 3s 66ms/step - loss: 1.7690 - categorical_accuracy: 0.1842 - val_loss: 1.7697 - val_categorical_accuracy: 0.1818 - lr: 0.0010\n",
            "Epoch 94/340\n",
            "39/39 [==============================] - 3s 66ms/step - loss: 1.7698 - categorical_accuracy: 0.1740 - val_loss: 1.7690 - val_categorical_accuracy: 0.1023 - lr: 0.0010\n",
            "Epoch 95/340\n",
            "39/39 [==============================] - 3s 67ms/step - loss: 1.7690 - categorical_accuracy: 0.1797 - val_loss: 1.7768 - val_categorical_accuracy: 0.1023 - lr: 0.0010\n",
            "Epoch 96/340\n",
            "39/39 [==============================] - 3s 83ms/step - loss: 1.7695 - categorical_accuracy: 0.1921 - val_loss: 1.7689 - val_categorical_accuracy: 0.1250 - lr: 0.0010\n",
            "Epoch 97/340\n",
            "39/39 [==============================] - 3s 65ms/step - loss: 1.7693 - categorical_accuracy: 0.1672 - val_loss: 1.7696 - val_categorical_accuracy: 0.1023 - lr: 0.0010\n",
            "Epoch 98/340\n",
            "39/39 [==============================] - 3s 66ms/step - loss: 1.7695 - categorical_accuracy: 0.1774 - val_loss: 1.7997 - val_categorical_accuracy: 0.1023 - lr: 0.0010\n",
            "Epoch 99/340\n",
            "39/39 [==============================] - 3s 66ms/step - loss: 1.7693 - categorical_accuracy: 0.1740 - val_loss: 1.7637 - val_categorical_accuracy: 0.1818 - lr: 0.0010\n",
            "Epoch 100/340\n",
            "39/39 [==============================] - 3s 72ms/step - loss: 1.7698 - categorical_accuracy: 0.1695 - val_loss: 1.7753 - val_categorical_accuracy: 0.1023 - lr: 0.0010\n",
            "Epoch 101/340\n",
            "39/39 [==============================] - 3s 79ms/step - loss: 1.7686 - categorical_accuracy: 0.1819 - val_loss: 1.7794 - val_categorical_accuracy: 0.1023 - lr: 0.0010\n",
            "Epoch 102/340\n",
            "39/39 [==============================] - 3s 66ms/step - loss: 1.7665 - categorical_accuracy: 0.1887 - val_loss: 1.7770 - val_categorical_accuracy: 0.1023 - lr: 1.0000e-04\n",
            "Epoch 103/340\n",
            "39/39 [==============================] - 3s 66ms/step - loss: 1.7658 - categorical_accuracy: 0.1887 - val_loss: 1.7752 - val_categorical_accuracy: 0.1023 - lr: 1.0000e-04\n",
            "Epoch 104/340\n",
            "39/39 [==============================] - 3s 66ms/step - loss: 1.7655 - categorical_accuracy: 0.1887 - val_loss: 1.7739 - val_categorical_accuracy: 0.1023 - lr: 1.0000e-04\n",
            "Epoch 105/340\n",
            "39/39 [==============================] - 3s 75ms/step - loss: 1.7654 - categorical_accuracy: 0.1887 - val_loss: 1.7734 - val_categorical_accuracy: 0.1023 - lr: 1.0000e-04\n",
            "Epoch 106/340\n",
            "39/39 [==============================] - 3s 75ms/step - loss: 1.7652 - categorical_accuracy: 0.1887 - val_loss: 1.7731 - val_categorical_accuracy: 0.1023 - lr: 1.0000e-04\n",
            "Epoch 107/340\n",
            "39/39 [==============================] - 3s 65ms/step - loss: 1.7651 - categorical_accuracy: 0.1763 - val_loss: 1.7726 - val_categorical_accuracy: 0.1023 - lr: 1.0000e-04\n",
            "Epoch 108/340\n",
            "39/39 [==============================] - 3s 66ms/step - loss: 1.7651 - categorical_accuracy: 0.1718 - val_loss: 1.7725 - val_categorical_accuracy: 0.1023 - lr: 1.0000e-04\n",
            "Epoch 109/340\n",
            "39/39 [==============================] - 3s 66ms/step - loss: 1.7650 - categorical_accuracy: 0.1785 - val_loss: 1.7724 - val_categorical_accuracy: 0.1023 - lr: 1.0000e-04\n",
            "Epoch 110/340\n",
            "39/39 [==============================] - 3s 78ms/step - loss: 1.7651 - categorical_accuracy: 0.1887 - val_loss: 1.7725 - val_categorical_accuracy: 0.1023 - lr: 1.0000e-04\n",
            "Epoch 111/340\n",
            "39/39 [==============================] - 3s 72ms/step - loss: 1.7651 - categorical_accuracy: 0.1887 - val_loss: 1.7727 - val_categorical_accuracy: 0.1023 - lr: 1.0000e-04\n",
            "Epoch 112/340\n",
            "39/39 [==============================] - 3s 67ms/step - loss: 1.7652 - categorical_accuracy: 0.1887 - val_loss: 1.7727 - val_categorical_accuracy: 0.1023 - lr: 1.0000e-04\n",
            "Epoch 113/340\n",
            "39/39 [==============================] - 3s 67ms/step - loss: 1.7651 - categorical_accuracy: 0.1831 - val_loss: 1.7733 - val_categorical_accuracy: 0.1023 - lr: 1.0000e-04\n",
            "Epoch 114/340\n",
            "39/39 [==============================] - 3s 68ms/step - loss: 1.7650 - categorical_accuracy: 0.1887 - val_loss: 1.7730 - val_categorical_accuracy: 0.1023 - lr: 1.0000e-04\n",
            "Epoch 115/340\n",
            "39/39 [==============================] - 3s 85ms/step - loss: 1.7650 - categorical_accuracy: 0.1831 - val_loss: 1.7732 - val_categorical_accuracy: 0.1023 - lr: 1.0000e-04\n",
            "Epoch 116/340\n",
            "39/39 [==============================] - 3s 66ms/step - loss: 1.7650 - categorical_accuracy: 0.1887 - val_loss: 1.7728 - val_categorical_accuracy: 0.1023 - lr: 1.0000e-04\n",
            "Epoch 117/340\n",
            "39/39 [==============================] - 3s 67ms/step - loss: 1.7649 - categorical_accuracy: 0.1831 - val_loss: 1.7724 - val_categorical_accuracy: 0.1023 - lr: 1.0000e-04\n",
            "Epoch 118/340\n",
            "39/39 [==============================] - 3s 66ms/step - loss: 1.7650 - categorical_accuracy: 0.1797 - val_loss: 1.7722 - val_categorical_accuracy: 0.1023 - lr: 1.0000e-04\n",
            "Epoch 119/340\n",
            "39/39 [==============================] - 3s 72ms/step - loss: 1.7650 - categorical_accuracy: 0.1763 - val_loss: 1.7712 - val_categorical_accuracy: 0.1023 - lr: 1.0000e-04\n",
            "Epoch 120/340\n",
            "39/39 [==============================] - 3s 79ms/step - loss: 1.7650 - categorical_accuracy: 0.1876 - val_loss: 1.7719 - val_categorical_accuracy: 0.1023 - lr: 1.0000e-04\n",
            "Epoch 121/340\n",
            "39/39 [==============================] - 3s 67ms/step - loss: 1.7650 - categorical_accuracy: 0.1672 - val_loss: 1.7721 - val_categorical_accuracy: 0.1023 - lr: 1.0000e-04\n",
            "Epoch 122/340\n",
            "39/39 [==============================] - 3s 67ms/step - loss: 1.7650 - categorical_accuracy: 0.1831 - val_loss: 1.7715 - val_categorical_accuracy: 0.1023 - lr: 1.0000e-04\n",
            "Epoch 123/340\n",
            "39/39 [==============================] - 3s 67ms/step - loss: 1.7650 - categorical_accuracy: 0.1763 - val_loss: 1.7716 - val_categorical_accuracy: 0.1023 - lr: 1.0000e-04\n",
            "Epoch 124/340\n",
            "39/39 [==============================] - 3s 76ms/step - loss: 1.7650 - categorical_accuracy: 0.1887 - val_loss: 1.7711 - val_categorical_accuracy: 0.1023 - lr: 1.0000e-04\n",
            "Epoch 125/340\n",
            "39/39 [==============================] - 3s 74ms/step - loss: 1.7651 - categorical_accuracy: 0.1887 - val_loss: 1.7713 - val_categorical_accuracy: 0.1023 - lr: 1.0000e-04\n",
            "Epoch 126/340\n",
            "39/39 [==============================] - 3s 67ms/step - loss: 1.7650 - categorical_accuracy: 0.1819 - val_loss: 1.7718 - val_categorical_accuracy: 0.1023 - lr: 1.0000e-04\n",
            "Epoch 127/340\n",
            "39/39 [==============================] - 3s 68ms/step - loss: 1.7651 - categorical_accuracy: 0.1887 - val_loss: 1.7723 - val_categorical_accuracy: 0.1023 - lr: 1.0000e-04\n",
            "Epoch 128/340\n",
            "39/39 [==============================] - 3s 68ms/step - loss: 1.7650 - categorical_accuracy: 0.1853 - val_loss: 1.7725 - val_categorical_accuracy: 0.1023 - lr: 1.0000e-04\n",
            "Epoch 129/340\n",
            "39/39 [==============================] - 3s 84ms/step - loss: 1.7650 - categorical_accuracy: 0.1785 - val_loss: 1.7723 - val_categorical_accuracy: 0.1023 - lr: 1.0000e-04\n",
            "Epoch 130/340\n",
            "39/39 [==============================] - 3s 68ms/step - loss: 1.7650 - categorical_accuracy: 0.1887 - val_loss: 1.7719 - val_categorical_accuracy: 0.1023 - lr: 1.0000e-04\n",
            "Epoch 131/340\n",
            "39/39 [==============================] - 3s 67ms/step - loss: 1.7650 - categorical_accuracy: 0.1887 - val_loss: 1.7717 - val_categorical_accuracy: 0.1023 - lr: 1.0000e-04\n",
            "Epoch 132/340\n",
            "39/39 [==============================] - 3s 66ms/step - loss: 1.7651 - categorical_accuracy: 0.1763 - val_loss: 1.7717 - val_categorical_accuracy: 0.1250 - lr: 1.0000e-04\n",
            "Epoch 133/340\n",
            "39/39 [==============================] - 3s 85ms/step - loss: 1.7650 - categorical_accuracy: 0.1718 - val_loss: 1.7722 - val_categorical_accuracy: 0.1023 - lr: 1.0000e-04\n",
            "Epoch 134/340\n",
            "39/39 [==============================] - 4s 99ms/step - loss: 1.7650 - categorical_accuracy: 0.1876 - val_loss: 1.7725 - val_categorical_accuracy: 0.1023 - lr: 1.0000e-04\n",
            "Epoch 135/340\n",
            "39/39 [==============================] - 3s 67ms/step - loss: 1.7651 - categorical_accuracy: 0.1831 - val_loss: 1.7724 - val_categorical_accuracy: 0.1023 - lr: 1.0000e-04\n",
            "Epoch 136/340\n",
            "39/39 [==============================] - 3s 68ms/step - loss: 1.7650 - categorical_accuracy: 0.1876 - val_loss: 1.7719 - val_categorical_accuracy: 0.1023 - lr: 1.0000e-04\n",
            "Epoch 137/340\n",
            "39/39 [==============================] - 3s 67ms/step - loss: 1.7650 - categorical_accuracy: 0.1751 - val_loss: 1.7720 - val_categorical_accuracy: 0.1023 - lr: 1.0000e-04\n",
            "Epoch 138/340\n",
            "39/39 [==============================] - 3s 71ms/step - loss: 1.7650 - categorical_accuracy: 0.1774 - val_loss: 1.7721 - val_categorical_accuracy: 0.1023 - lr: 1.0000e-04\n",
            "Epoch 139/340\n",
            "39/39 [==============================] - 3s 82ms/step - loss: 1.7650 - categorical_accuracy: 0.1729 - val_loss: 1.7722 - val_categorical_accuracy: 0.1023 - lr: 1.0000e-04\n",
            "Epoch 140/340\n",
            "39/39 [==============================] - 3s 66ms/step - loss: 1.7650 - categorical_accuracy: 0.1887 - val_loss: 1.7725 - val_categorical_accuracy: 0.1023 - lr: 1.0000e-04\n",
            "Epoch 141/340\n",
            "39/39 [==============================] - 3s 68ms/step - loss: 1.7650 - categorical_accuracy: 0.1887 - val_loss: 1.7725 - val_categorical_accuracy: 0.1023 - lr: 1.0000e-04\n",
            "Epoch 142/340\n",
            "39/39 [==============================] - 3s 67ms/step - loss: 1.7650 - categorical_accuracy: 0.1751 - val_loss: 1.7727 - val_categorical_accuracy: 0.1023 - lr: 1.0000e-04\n",
            "Epoch 143/340\n",
            "39/39 [==============================] - 3s 76ms/step - loss: 1.7651 - categorical_accuracy: 0.1819 - val_loss: 1.7732 - val_categorical_accuracy: 0.1023 - lr: 1.0000e-04\n",
            "Epoch 144/340\n",
            "39/39 [==============================] - 3s 76ms/step - loss: 1.7650 - categorical_accuracy: 0.1672 - val_loss: 1.7722 - val_categorical_accuracy: 0.1023 - lr: 1.0000e-04\n",
            "Epoch 145/340\n",
            "39/39 [==============================] - 3s 67ms/step - loss: 1.7650 - categorical_accuracy: 0.1853 - val_loss: 1.7719 - val_categorical_accuracy: 0.1023 - lr: 1.0000e-04\n",
            "Epoch 146/340\n",
            "39/39 [==============================] - 3s 67ms/step - loss: 1.7649 - categorical_accuracy: 0.1887 - val_loss: 1.7712 - val_categorical_accuracy: 0.1250 - lr: 1.0000e-04\n",
            "Epoch 147/340\n",
            "39/39 [==============================] - 3s 68ms/step - loss: 1.7650 - categorical_accuracy: 0.1774 - val_loss: 1.7715 - val_categorical_accuracy: 0.1023 - lr: 1.0000e-04\n",
            "Epoch 148/340\n",
            "39/39 [==============================] - 3s 82ms/step - loss: 1.7650 - categorical_accuracy: 0.1842 - val_loss: 1.7722 - val_categorical_accuracy: 0.1250 - lr: 1.0000e-04\n",
            "Epoch 149/340\n",
            "39/39 [==============================] - 3s 70ms/step - loss: 1.7650 - categorical_accuracy: 0.1797 - val_loss: 1.7713 - val_categorical_accuracy: 0.1023 - lr: 1.0000e-04\n",
            "Epoch 150/340\n",
            "39/39 [==============================] - 3s 68ms/step - loss: 1.7650 - categorical_accuracy: 0.1695 - val_loss: 1.7714 - val_categorical_accuracy: 0.1250 - lr: 1.0000e-04\n",
            "Epoch 151/340\n",
            "39/39 [==============================] - 3s 67ms/step - loss: 1.7650 - categorical_accuracy: 0.1785 - val_loss: 1.7718 - val_categorical_accuracy: 0.1023 - lr: 1.0000e-04\n",
            "Epoch 152/340\n",
            "39/39 [==============================] - 3s 68ms/step - loss: 1.7650 - categorical_accuracy: 0.1898 - val_loss: 1.7721 - val_categorical_accuracy: 0.1250 - lr: 1.0000e-04\n",
            "Epoch 153/340\n",
            "39/39 [==============================] - 3s 82ms/step - loss: 1.7650 - categorical_accuracy: 0.1819 - val_loss: 1.7724 - val_categorical_accuracy: 0.1023 - lr: 1.0000e-04\n",
            "Epoch 154/340\n",
            "39/39 [==============================] - 3s 66ms/step - loss: 1.7650 - categorical_accuracy: 0.1718 - val_loss: 1.7726 - val_categorical_accuracy: 0.1023 - lr: 1.0000e-04\n",
            "Epoch 155/340\n",
            "39/39 [==============================] - 3s 68ms/step - loss: 1.7651 - categorical_accuracy: 0.1718 - val_loss: 1.7725 - val_categorical_accuracy: 0.1023 - lr: 1.0000e-04\n",
            "Epoch 156/340\n",
            "39/39 [==============================] - 3s 67ms/step - loss: 1.7650 - categorical_accuracy: 0.1864 - val_loss: 1.7722 - val_categorical_accuracy: 0.1023 - lr: 1.0000e-04\n",
            "Epoch 157/340\n",
            "39/39 [==============================] - 3s 74ms/step - loss: 1.7650 - categorical_accuracy: 0.1808 - val_loss: 1.7723 - val_categorical_accuracy: 0.1250 - lr: 1.0000e-04\n",
            "Epoch 158/340\n",
            "39/39 [==============================] - 3s 78ms/step - loss: 1.7650 - categorical_accuracy: 0.1763 - val_loss: 1.7727 - val_categorical_accuracy: 0.1023 - lr: 1.0000e-04\n",
            "Epoch 159/340\n",
            "39/39 [==============================] - 3s 67ms/step - loss: 1.7651 - categorical_accuracy: 0.1740 - val_loss: 1.7716 - val_categorical_accuracy: 0.1250 - lr: 1.0000e-04\n",
            "Epoch 160/340\n",
            "39/39 [==============================] - 3s 68ms/step - loss: 1.7650 - categorical_accuracy: 0.1876 - val_loss: 1.7712 - val_categorical_accuracy: 0.1250 - lr: 1.0000e-04\n",
            "Epoch 161/340\n",
            "39/39 [==============================] - 3s 66ms/step - loss: 1.7650 - categorical_accuracy: 0.1763 - val_loss: 1.7717 - val_categorical_accuracy: 0.1023 - lr: 1.0000e-04\n",
            "Epoch 162/340\n",
            "39/39 [==============================] - 3s 81ms/step - loss: 1.7650 - categorical_accuracy: 0.1785 - val_loss: 1.7725 - val_categorical_accuracy: 0.1023 - lr: 1.0000e-04\n",
            "Epoch 163/340\n",
            "39/39 [==============================] - 3s 71ms/step - loss: 1.7651 - categorical_accuracy: 0.1740 - val_loss: 1.7723 - val_categorical_accuracy: 0.1023 - lr: 1.0000e-04\n",
            "Epoch 164/340\n",
            "39/39 [==============================] - 3s 67ms/step - loss: 1.7649 - categorical_accuracy: 0.1797 - val_loss: 1.7722 - val_categorical_accuracy: 0.1023 - lr: 1.0000e-04\n",
            "Epoch 165/340\n",
            "39/39 [==============================] - 3s 67ms/step - loss: 1.7651 - categorical_accuracy: 0.1808 - val_loss: 1.7720 - val_categorical_accuracy: 0.1023 - lr: 1.0000e-04\n",
            "Epoch 166/340\n",
            "39/39 [==============================] - 3s 67ms/step - loss: 1.7650 - categorical_accuracy: 0.1887 - val_loss: 1.7728 - val_categorical_accuracy: 0.1023 - lr: 1.0000e-04\n",
            "Epoch 167/340\n",
            "39/39 [==============================] - 3s 84ms/step - loss: 1.7650 - categorical_accuracy: 0.1616 - val_loss: 1.7726 - val_categorical_accuracy: 0.1023 - lr: 1.0000e-04\n",
            "Epoch 168/340\n",
            "39/39 [==============================] - 3s 68ms/step - loss: 1.7650 - categorical_accuracy: 0.1729 - val_loss: 1.7728 - val_categorical_accuracy: 0.1023 - lr: 1.0000e-04\n",
            "Epoch 169/340\n",
            "39/39 [==============================] - 3s 67ms/step - loss: 1.7650 - categorical_accuracy: 0.1808 - val_loss: 1.7725 - val_categorical_accuracy: 0.1023 - lr: 1.0000e-04\n",
            "Epoch 170/340\n",
            "39/39 [==============================] - 3s 67ms/step - loss: 1.7650 - categorical_accuracy: 0.1842 - val_loss: 1.7723 - val_categorical_accuracy: 0.1250 - lr: 1.0000e-04\n",
            "Epoch 171/340\n",
            "39/39 [==============================] - 3s 71ms/step - loss: 1.7650 - categorical_accuracy: 0.1853 - val_loss: 1.7722 - val_categorical_accuracy: 0.1250 - lr: 1.0000e-04\n",
            "Epoch 172/340\n",
            "39/39 [==============================] - 3s 80ms/step - loss: 1.7650 - categorical_accuracy: 0.1650 - val_loss: 1.7724 - val_categorical_accuracy: 0.1250 - lr: 1.0000e-04\n",
            "Epoch 173/340\n",
            "39/39 [==============================] - 3s 67ms/step - loss: 1.7650 - categorical_accuracy: 0.1718 - val_loss: 1.7721 - val_categorical_accuracy: 0.1250 - lr: 1.0000e-04\n",
            "Epoch 174/340\n",
            "39/39 [==============================] - 3s 68ms/step - loss: 1.7650 - categorical_accuracy: 0.1740 - val_loss: 1.7718 - val_categorical_accuracy: 0.1250 - lr: 1.0000e-04\n",
            "Epoch 175/340\n",
            "39/39 [==============================] - 3s 68ms/step - loss: 1.7650 - categorical_accuracy: 0.1695 - val_loss: 1.7720 - val_categorical_accuracy: 0.1250 - lr: 1.0000e-04\n",
            "Epoch 176/340\n",
            "39/39 [==============================] - 3s 79ms/step - loss: 1.7650 - categorical_accuracy: 0.1763 - val_loss: 1.7720 - val_categorical_accuracy: 0.1250 - lr: 1.0000e-04\n",
            "Epoch 177/340\n",
            "39/39 [==============================] - 3s 74ms/step - loss: 1.7650 - categorical_accuracy: 0.1684 - val_loss: 1.7721 - val_categorical_accuracy: 0.1023 - lr: 1.0000e-04\n",
            "Epoch 178/340\n",
            "39/39 [==============================] - 3s 69ms/step - loss: 1.7651 - categorical_accuracy: 0.1695 - val_loss: 1.7722 - val_categorical_accuracy: 0.1023 - lr: 1.0000e-04\n",
            "Epoch 179/340\n",
            "39/39 [==============================] - 3s 69ms/step - loss: 1.7649 - categorical_accuracy: 0.1831 - val_loss: 1.7716 - val_categorical_accuracy: 0.1023 - lr: 1.0000e-04\n",
            "Epoch 180/340\n",
            "39/39 [==============================] - 3s 68ms/step - loss: 1.7651 - categorical_accuracy: 0.1876 - val_loss: 1.7715 - val_categorical_accuracy: 0.1023 - lr: 1.0000e-04\n",
            "Epoch 181/340\n",
            "39/39 [==============================] - 3s 85ms/step - loss: 1.7650 - categorical_accuracy: 0.1740 - val_loss: 1.7711 - val_categorical_accuracy: 0.1023 - lr: 1.0000e-04\n",
            "Epoch 182/340\n",
            "39/39 [==============================] - 3s 69ms/step - loss: 1.7650 - categorical_accuracy: 0.1740 - val_loss: 1.7715 - val_categorical_accuracy: 0.1250 - lr: 1.0000e-04\n",
            "Epoch 183/340\n",
            "39/39 [==============================] - 3s 68ms/step - loss: 1.7650 - categorical_accuracy: 0.1808 - val_loss: 1.7715 - val_categorical_accuracy: 0.1250 - lr: 1.0000e-04\n",
            "Epoch 184/340\n",
            "39/39 [==============================] - 3s 69ms/step - loss: 1.7650 - categorical_accuracy: 0.1864 - val_loss: 1.7710 - val_categorical_accuracy: 0.1250 - lr: 1.0000e-04\n",
            "Epoch 185/340\n",
            "39/39 [==============================] - 3s 74ms/step - loss: 1.7651 - categorical_accuracy: 0.1876 - val_loss: 1.7709 - val_categorical_accuracy: 0.1250 - lr: 1.0000e-04\n",
            "Epoch 186/340\n",
            "39/39 [==============================] - 3s 81ms/step - loss: 1.7650 - categorical_accuracy: 0.1774 - val_loss: 1.7718 - val_categorical_accuracy: 0.1250 - lr: 1.0000e-04\n",
            "Epoch 187/340\n",
            "39/39 [==============================] - 3s 68ms/step - loss: 1.7651 - categorical_accuracy: 0.1729 - val_loss: 1.7716 - val_categorical_accuracy: 0.1250 - lr: 1.0000e-04\n",
            "Epoch 188/340\n",
            "39/39 [==============================] - 3s 67ms/step - loss: 1.7651 - categorical_accuracy: 0.1627 - val_loss: 1.7718 - val_categorical_accuracy: 0.1250 - lr: 1.0000e-04\n",
            "Epoch 189/340\n",
            "39/39 [==============================] - 3s 67ms/step - loss: 1.7650 - categorical_accuracy: 0.1842 - val_loss: 1.7720 - val_categorical_accuracy: 0.1250 - lr: 1.0000e-04\n",
            "Epoch 190/340\n",
            "39/39 [==============================] - 3s 77ms/step - loss: 1.7651 - categorical_accuracy: 0.1751 - val_loss: 1.7713 - val_categorical_accuracy: 0.1250 - lr: 1.0000e-04\n",
            "Epoch 191/340\n",
            "39/39 [==============================] - 3s 74ms/step - loss: 1.7651 - categorical_accuracy: 0.1706 - val_loss: 1.7705 - val_categorical_accuracy: 0.1023 - lr: 1.0000e-04\n",
            "Epoch 192/340\n",
            "39/39 [==============================] - 3s 68ms/step - loss: 1.7649 - categorical_accuracy: 0.1751 - val_loss: 1.7702 - val_categorical_accuracy: 0.1023 - lr: 1.0000e-04\n",
            "Epoch 193/340\n",
            "39/39 [==============================] - 3s 69ms/step - loss: 1.7650 - categorical_accuracy: 0.1819 - val_loss: 1.7706 - val_categorical_accuracy: 0.1023 - lr: 1.0000e-04\n",
            "Epoch 194/340\n",
            "39/39 [==============================] - 3s 70ms/step - loss: 1.7649 - categorical_accuracy: 0.1729 - val_loss: 1.7712 - val_categorical_accuracy: 0.1023 - lr: 1.0000e-04\n",
            "Epoch 195/340\n",
            "39/39 [==============================] - 3s 86ms/step - loss: 1.7650 - categorical_accuracy: 0.1808 - val_loss: 1.7715 - val_categorical_accuracy: 0.1023 - lr: 1.0000e-04\n",
            "Epoch 196/340\n",
            "39/39 [==============================] - 3s 69ms/step - loss: 1.7650 - categorical_accuracy: 0.1718 - val_loss: 1.7719 - val_categorical_accuracy: 0.1023 - lr: 1.0000e-04\n",
            "Epoch 197/340\n",
            "39/39 [==============================] - 3s 68ms/step - loss: 1.7650 - categorical_accuracy: 0.1887 - val_loss: 1.7719 - val_categorical_accuracy: 0.1023 - lr: 1.0000e-04\n",
            "Epoch 198/340\n",
            "39/39 [==============================] - 3s 67ms/step - loss: 1.7650 - categorical_accuracy: 0.1695 - val_loss: 1.7714 - val_categorical_accuracy: 0.1023 - lr: 1.0000e-04\n",
            "Epoch 199/340\n",
            "39/39 [==============================] - 3s 72ms/step - loss: 1.7651 - categorical_accuracy: 0.1582 - val_loss: 1.7715 - val_categorical_accuracy: 0.1023 - lr: 1.0000e-04\n",
            "Epoch 200/340\n",
            "39/39 [==============================] - 3s 79ms/step - loss: 1.7650 - categorical_accuracy: 0.1831 - val_loss: 1.7713 - val_categorical_accuracy: 0.1023 - lr: 1.0000e-04\n",
            "Epoch 201/340\n",
            "39/39 [==============================] - 3s 68ms/step - loss: 1.7650 - categorical_accuracy: 0.1718 - val_loss: 1.7718 - val_categorical_accuracy: 0.1023 - lr: 1.0000e-04\n",
            "Epoch 202/340\n",
            "39/39 [==============================] - 3s 68ms/step - loss: 1.7645 - categorical_accuracy: 0.1887 - val_loss: 1.7718 - val_categorical_accuracy: 0.1023 - lr: 1.0000e-05\n",
            "Epoch 203/340\n",
            "39/39 [==============================] - 3s 68ms/step - loss: 1.7645 - categorical_accuracy: 0.1887 - val_loss: 1.7718 - val_categorical_accuracy: 0.1023 - lr: 1.0000e-05\n",
            "Epoch 204/340\n",
            "39/39 [==============================] - 3s 77ms/step - loss: 1.7645 - categorical_accuracy: 0.1887 - val_loss: 1.7718 - val_categorical_accuracy: 0.1023 - lr: 1.0000e-05\n",
            "Epoch 205/340\n",
            "39/39 [==============================] - 3s 74ms/step - loss: 1.7645 - categorical_accuracy: 0.1887 - val_loss: 1.7718 - val_categorical_accuracy: 0.1023 - lr: 1.0000e-05\n",
            "Epoch 206/340\n",
            "39/39 [==============================] - 3s 69ms/step - loss: 1.7645 - categorical_accuracy: 0.1887 - val_loss: 1.7718 - val_categorical_accuracy: 0.1023 - lr: 1.0000e-05\n",
            "Epoch 207/340\n",
            "39/39 [==============================] - 3s 69ms/step - loss: 1.7645 - categorical_accuracy: 0.1887 - val_loss: 1.7717 - val_categorical_accuracy: 0.1023 - lr: 1.0000e-05\n",
            "Epoch 208/340\n",
            "39/39 [==============================] - 3s 67ms/step - loss: 1.7645 - categorical_accuracy: 0.1887 - val_loss: 1.7717 - val_categorical_accuracy: 0.1023 - lr: 1.0000e-05\n",
            "Epoch 209/340\n",
            "39/39 [==============================] - 3s 85ms/step - loss: 1.7645 - categorical_accuracy: 0.1887 - val_loss: 1.7717 - val_categorical_accuracy: 0.1023 - lr: 1.0000e-05\n",
            "Epoch 210/340\n",
            "39/39 [==============================] - 3s 69ms/step - loss: 1.7645 - categorical_accuracy: 0.1887 - val_loss: 1.7718 - val_categorical_accuracy: 0.1023 - lr: 1.0000e-05\n",
            "Epoch 211/340\n",
            "39/39 [==============================] - 3s 68ms/step - loss: 1.7645 - categorical_accuracy: 0.1887 - val_loss: 1.7717 - val_categorical_accuracy: 0.1023 - lr: 1.0000e-05\n",
            "Epoch 212/340\n",
            "39/39 [==============================] - 3s 68ms/step - loss: 1.7645 - categorical_accuracy: 0.1887 - val_loss: 1.7717 - val_categorical_accuracy: 0.1023 - lr: 1.0000e-05\n",
            "Epoch 213/340\n",
            "39/39 [==============================] - 3s 73ms/step - loss: 1.7645 - categorical_accuracy: 0.1887 - val_loss: 1.7717 - val_categorical_accuracy: 0.1023 - lr: 1.0000e-05\n",
            "Epoch 214/340\n",
            "39/39 [==============================] - 3s 82ms/step - loss: 1.7645 - categorical_accuracy: 0.1887 - val_loss: 1.7717 - val_categorical_accuracy: 0.1023 - lr: 1.0000e-05\n",
            "Epoch 215/340\n",
            "39/39 [==============================] - 3s 69ms/step - loss: 1.7645 - categorical_accuracy: 0.1887 - val_loss: 1.7717 - val_categorical_accuracy: 0.1023 - lr: 1.0000e-05\n",
            "Epoch 216/340\n",
            "39/39 [==============================] - 3s 68ms/step - loss: 1.7645 - categorical_accuracy: 0.1887 - val_loss: 1.7717 - val_categorical_accuracy: 0.1023 - lr: 1.0000e-05\n",
            "Epoch 217/340\n",
            "39/39 [==============================] - 3s 68ms/step - loss: 1.7645 - categorical_accuracy: 0.1887 - val_loss: 1.7717 - val_categorical_accuracy: 0.1023 - lr: 1.0000e-05\n",
            "Epoch 218/340\n",
            "39/39 [==============================] - 3s 79ms/step - loss: 1.7645 - categorical_accuracy: 0.1887 - val_loss: 1.7717 - val_categorical_accuracy: 0.1023 - lr: 1.0000e-05\n",
            "Epoch 219/340\n",
            "39/39 [==============================] - 3s 75ms/step - loss: 1.7645 - categorical_accuracy: 0.1887 - val_loss: 1.7717 - val_categorical_accuracy: 0.1023 - lr: 1.0000e-05\n",
            "Epoch 220/340\n",
            "39/39 [==============================] - 3s 68ms/step - loss: 1.7645 - categorical_accuracy: 0.1887 - val_loss: 1.7716 - val_categorical_accuracy: 0.1023 - lr: 1.0000e-05\n",
            "Epoch 221/340\n",
            "39/39 [==============================] - 3s 69ms/step - loss: 1.7645 - categorical_accuracy: 0.1887 - val_loss: 1.7716 - val_categorical_accuracy: 0.1023 - lr: 1.0000e-05\n",
            "Epoch 222/340\n",
            "39/39 [==============================] - 3s 68ms/step - loss: 1.7645 - categorical_accuracy: 0.1887 - val_loss: 1.7717 - val_categorical_accuracy: 0.1023 - lr: 1.0000e-05\n",
            "Epoch 223/340\n",
            "39/39 [==============================] - 3s 86ms/step - loss: 1.7645 - categorical_accuracy: 0.1887 - val_loss: 1.7717 - val_categorical_accuracy: 0.1023 - lr: 1.0000e-05\n",
            "Epoch 224/340\n",
            "39/39 [==============================] - 3s 70ms/step - loss: 1.7645 - categorical_accuracy: 0.1887 - val_loss: 1.7716 - val_categorical_accuracy: 0.1023 - lr: 1.0000e-05\n",
            "Epoch 225/340\n",
            "39/39 [==============================] - 3s 69ms/step - loss: 1.7645 - categorical_accuracy: 0.1887 - val_loss: 1.7715 - val_categorical_accuracy: 0.1023 - lr: 1.0000e-05\n",
            "Epoch 226/340\n",
            "39/39 [==============================] - 3s 68ms/step - loss: 1.7645 - categorical_accuracy: 0.1887 - val_loss: 1.7716 - val_categorical_accuracy: 0.1023 - lr: 1.0000e-05\n",
            "Epoch 227/340\n",
            "39/39 [==============================] - 3s 74ms/step - loss: 1.7645 - categorical_accuracy: 0.1887 - val_loss: 1.7716 - val_categorical_accuracy: 0.1023 - lr: 1.0000e-05\n",
            "Epoch 228/340\n",
            "39/39 [==============================] - 3s 79ms/step - loss: 1.7645 - categorical_accuracy: 0.1887 - val_loss: 1.7715 - val_categorical_accuracy: 0.1023 - lr: 1.0000e-05\n",
            "Epoch 229/340\n",
            "39/39 [==============================] - 3s 69ms/step - loss: 1.7645 - categorical_accuracy: 0.1887 - val_loss: 1.7716 - val_categorical_accuracy: 0.1023 - lr: 1.0000e-05\n",
            "Epoch 230/340\n",
            "39/39 [==============================] - 3s 67ms/step - loss: 1.7645 - categorical_accuracy: 0.1887 - val_loss: 1.7716 - val_categorical_accuracy: 0.1023 - lr: 1.0000e-05\n",
            "Epoch 231/340\n",
            "39/39 [==============================] - 3s 66ms/step - loss: 1.7645 - categorical_accuracy: 0.1887 - val_loss: 1.7716 - val_categorical_accuracy: 0.1023 - lr: 1.0000e-05\n",
            "Epoch 232/340\n",
            "39/39 [==============================] - 3s 80ms/step - loss: 1.7645 - categorical_accuracy: 0.1887 - val_loss: 1.7716 - val_categorical_accuracy: 0.1023 - lr: 1.0000e-05\n",
            "Epoch 233/340\n",
            "39/39 [==============================] - 3s 75ms/step - loss: 1.7645 - categorical_accuracy: 0.1887 - val_loss: 1.7716 - val_categorical_accuracy: 0.1023 - lr: 1.0000e-05\n",
            "Epoch 234/340\n",
            "39/39 [==============================] - 3s 69ms/step - loss: 1.7645 - categorical_accuracy: 0.1887 - val_loss: 1.7715 - val_categorical_accuracy: 0.1023 - lr: 1.0000e-05\n",
            "Epoch 235/340\n",
            "39/39 [==============================] - 3s 68ms/step - loss: 1.7645 - categorical_accuracy: 0.1887 - val_loss: 1.7715 - val_categorical_accuracy: 0.1023 - lr: 1.0000e-05\n",
            "Epoch 236/340\n",
            "39/39 [==============================] - 3s 68ms/step - loss: 1.7645 - categorical_accuracy: 0.1887 - val_loss: 1.7716 - val_categorical_accuracy: 0.1023 - lr: 1.0000e-05\n",
            "Epoch 237/340\n",
            "39/39 [==============================] - 3s 87ms/step - loss: 1.7645 - categorical_accuracy: 0.1887 - val_loss: 1.7716 - val_categorical_accuracy: 0.1023 - lr: 1.0000e-05\n",
            "Epoch 238/340\n",
            "39/39 [==============================] - 3s 68ms/step - loss: 1.7645 - categorical_accuracy: 0.1887 - val_loss: 1.7716 - val_categorical_accuracy: 0.1023 - lr: 1.0000e-05\n",
            "Epoch 239/340\n",
            "39/39 [==============================] - 3s 68ms/step - loss: 1.7645 - categorical_accuracy: 0.1887 - val_loss: 1.7715 - val_categorical_accuracy: 0.1023 - lr: 1.0000e-05\n",
            "Epoch 240/340\n",
            "39/39 [==============================] - 3s 68ms/step - loss: 1.7645 - categorical_accuracy: 0.1887 - val_loss: 1.7715 - val_categorical_accuracy: 0.1023 - lr: 1.0000e-05\n",
            "Epoch 241/340\n",
            "39/39 [==============================] - 3s 75ms/step - loss: 1.7645 - categorical_accuracy: 0.1887 - val_loss: 1.7715 - val_categorical_accuracy: 0.1023 - lr: 1.0000e-05\n",
            "Epoch 242/340\n",
            "39/39 [==============================] - 3s 80ms/step - loss: 1.7645 - categorical_accuracy: 0.1887 - val_loss: 1.7715 - val_categorical_accuracy: 0.1023 - lr: 1.0000e-05\n",
            "Epoch 243/340\n",
            "39/39 [==============================] - 3s 69ms/step - loss: 1.7645 - categorical_accuracy: 0.1887 - val_loss: 1.7715 - val_categorical_accuracy: 0.1023 - lr: 1.0000e-05\n",
            "Epoch 244/340\n",
            "39/39 [==============================] - 3s 69ms/step - loss: 1.7645 - categorical_accuracy: 0.1887 - val_loss: 1.7715 - val_categorical_accuracy: 0.1023 - lr: 1.0000e-05\n",
            "Epoch 245/340\n",
            "39/39 [==============================] - 3s 68ms/step - loss: 1.7645 - categorical_accuracy: 0.1887 - val_loss: 1.7715 - val_categorical_accuracy: 0.1023 - lr: 1.0000e-05\n",
            "Epoch 246/340\n",
            "39/39 [==============================] - 3s 82ms/step - loss: 1.7645 - categorical_accuracy: 0.1887 - val_loss: 1.7716 - val_categorical_accuracy: 0.1023 - lr: 1.0000e-05\n",
            "Epoch 247/340\n",
            "39/39 [==============================] - 3s 73ms/step - loss: 1.7645 - categorical_accuracy: 0.1887 - val_loss: 1.7716 - val_categorical_accuracy: 0.1023 - lr: 1.0000e-05\n",
            "Epoch 248/340\n",
            "39/39 [==============================] - 3s 68ms/step - loss: 1.7645 - categorical_accuracy: 0.1887 - val_loss: 1.7716 - val_categorical_accuracy: 0.1023 - lr: 1.0000e-05\n",
            "Epoch 249/340\n",
            "39/39 [==============================] - 3s 68ms/step - loss: 1.7645 - categorical_accuracy: 0.1887 - val_loss: 1.7717 - val_categorical_accuracy: 0.1023 - lr: 1.0000e-05\n",
            "Epoch 250/340\n",
            "39/39 [==============================] - 3s 71ms/step - loss: 1.7645 - categorical_accuracy: 0.1887 - val_loss: 1.7718 - val_categorical_accuracy: 0.1023 - lr: 1.0000e-05\n",
            "Epoch 251/340\n",
            "39/39 [==============================] - 3s 83ms/step - loss: 1.7645 - categorical_accuracy: 0.1887 - val_loss: 1.7718 - val_categorical_accuracy: 0.1023 - lr: 1.0000e-05\n",
            "Epoch 252/340\n",
            "39/39 [==============================] - 3s 69ms/step - loss: 1.7645 - categorical_accuracy: 0.1887 - val_loss: 1.7717 - val_categorical_accuracy: 0.1023 - lr: 1.0000e-05\n",
            "Epoch 253/340\n",
            "39/39 [==============================] - 3s 69ms/step - loss: 1.7645 - categorical_accuracy: 0.1887 - val_loss: 1.7717 - val_categorical_accuracy: 0.1023 - lr: 1.0000e-05\n",
            "Epoch 254/340\n",
            "39/39 [==============================] - 3s 68ms/step - loss: 1.7645 - categorical_accuracy: 0.1887 - val_loss: 1.7718 - val_categorical_accuracy: 0.1023 - lr: 1.0000e-05\n",
            "Epoch 255/340\n",
            "39/39 [==============================] - 3s 76ms/step - loss: 1.7645 - categorical_accuracy: 0.1887 - val_loss: 1.7718 - val_categorical_accuracy: 0.1023 - lr: 1.0000e-05\n",
            "Epoch 256/340\n",
            "39/39 [==============================] - 3s 76ms/step - loss: 1.7645 - categorical_accuracy: 0.1887 - val_loss: 1.7718 - val_categorical_accuracy: 0.1023 - lr: 1.0000e-05\n",
            "Epoch 257/340\n",
            "39/39 [==============================] - 3s 67ms/step - loss: 1.7645 - categorical_accuracy: 0.1887 - val_loss: 1.7717 - val_categorical_accuracy: 0.1023 - lr: 1.0000e-05\n",
            "Epoch 258/340\n",
            "39/39 [==============================] - 3s 68ms/step - loss: 1.7645 - categorical_accuracy: 0.1887 - val_loss: 1.7718 - val_categorical_accuracy: 0.1023 - lr: 1.0000e-05\n",
            "Epoch 259/340\n",
            "39/39 [==============================] - 3s 69ms/step - loss: 1.7645 - categorical_accuracy: 0.1887 - val_loss: 1.7718 - val_categorical_accuracy: 0.1023 - lr: 1.0000e-05\n",
            "Epoch 260/340\n",
            "39/39 [==============================] - 3s 82ms/step - loss: 1.7645 - categorical_accuracy: 0.1887 - val_loss: 1.7718 - val_categorical_accuracy: 0.1023 - lr: 1.0000e-05\n",
            "Epoch 261/340\n",
            "39/39 [==============================] - 3s 73ms/step - loss: 1.7645 - categorical_accuracy: 0.1887 - val_loss: 1.7717 - val_categorical_accuracy: 0.1023 - lr: 1.0000e-05\n",
            "Epoch 262/340\n",
            "39/39 [==============================] - 3s 69ms/step - loss: 1.7645 - categorical_accuracy: 0.1887 - val_loss: 1.7717 - val_categorical_accuracy: 0.1023 - lr: 1.0000e-05\n",
            "Epoch 263/340\n",
            "39/39 [==============================] - 3s 69ms/step - loss: 1.7645 - categorical_accuracy: 0.1887 - val_loss: 1.7717 - val_categorical_accuracy: 0.1023 - lr: 1.0000e-05\n",
            "Epoch 264/340\n",
            "39/39 [==============================] - 3s 70ms/step - loss: 1.7645 - categorical_accuracy: 0.1887 - val_loss: 1.7718 - val_categorical_accuracy: 0.1023 - lr: 1.0000e-05\n",
            "Epoch 265/340\n",
            "39/39 [==============================] - 3s 85ms/step - loss: 1.7645 - categorical_accuracy: 0.1887 - val_loss: 1.7719 - val_categorical_accuracy: 0.1023 - lr: 1.0000e-05\n",
            "Epoch 266/340\n",
            "39/39 [==============================] - 3s 69ms/step - loss: 1.7645 - categorical_accuracy: 0.1887 - val_loss: 1.7718 - val_categorical_accuracy: 0.1023 - lr: 1.0000e-05\n",
            "Epoch 267/340\n",
            "39/39 [==============================] - 3s 70ms/step - loss: 1.7645 - categorical_accuracy: 0.1887 - val_loss: 1.7718 - val_categorical_accuracy: 0.1023 - lr: 1.0000e-05\n",
            "Epoch 268/340\n",
            "39/39 [==============================] - 3s 75ms/step - loss: 1.7645 - categorical_accuracy: 0.1887 - val_loss: 1.7718 - val_categorical_accuracy: 0.1023 - lr: 1.0000e-05\n",
            "Epoch 269/340\n",
            "39/39 [==============================] - 4s 95ms/step - loss: 1.7645 - categorical_accuracy: 0.1887 - val_loss: 1.7719 - val_categorical_accuracy: 0.1023 - lr: 1.0000e-05\n",
            "Epoch 270/340\n",
            "39/39 [==============================] - 3s 86ms/step - loss: 1.7645 - categorical_accuracy: 0.1887 - val_loss: 1.7719 - val_categorical_accuracy: 0.1023 - lr: 1.0000e-05\n",
            "Epoch 271/340\n",
            "39/39 [==============================] - 3s 68ms/step - loss: 1.7645 - categorical_accuracy: 0.1887 - val_loss: 1.7719 - val_categorical_accuracy: 0.1023 - lr: 1.0000e-05\n",
            "Epoch 272/340\n",
            "39/39 [==============================] - 3s 69ms/step - loss: 1.7645 - categorical_accuracy: 0.1887 - val_loss: 1.7719 - val_categorical_accuracy: 0.1023 - lr: 1.0000e-05\n",
            "Epoch 273/340\n",
            "39/39 [==============================] - 3s 70ms/step - loss: 1.7645 - categorical_accuracy: 0.1887 - val_loss: 1.7719 - val_categorical_accuracy: 0.1023 - lr: 1.0000e-05\n",
            "Epoch 274/340\n",
            "39/39 [==============================] - 3s 79ms/step - loss: 1.7645 - categorical_accuracy: 0.1887 - val_loss: 1.7719 - val_categorical_accuracy: 0.1023 - lr: 1.0000e-05\n",
            "Epoch 275/340\n",
            "39/39 [==============================] - 3s 76ms/step - loss: 1.7645 - categorical_accuracy: 0.1887 - val_loss: 1.7719 - val_categorical_accuracy: 0.1023 - lr: 1.0000e-05\n",
            "Epoch 276/340\n",
            "39/39 [==============================] - 3s 69ms/step - loss: 1.7645 - categorical_accuracy: 0.1887 - val_loss: 1.7718 - val_categorical_accuracy: 0.1023 - lr: 1.0000e-05\n",
            "Epoch 277/340\n",
            "39/39 [==============================] - 3s 69ms/step - loss: 1.7645 - categorical_accuracy: 0.1887 - val_loss: 1.7718 - val_categorical_accuracy: 0.1023 - lr: 1.0000e-05\n",
            "Epoch 278/340\n",
            "39/39 [==============================] - 3s 68ms/step - loss: 1.7645 - categorical_accuracy: 0.1887 - val_loss: 1.7719 - val_categorical_accuracy: 0.1023 - lr: 1.0000e-05\n",
            "Epoch 279/340\n",
            "39/39 [==============================] - 3s 86ms/step - loss: 1.7645 - categorical_accuracy: 0.1887 - val_loss: 1.7719 - val_categorical_accuracy: 0.1023 - lr: 1.0000e-05\n",
            "Epoch 280/340\n",
            "39/39 [==============================] - 3s 70ms/step - loss: 1.7645 - categorical_accuracy: 0.1887 - val_loss: 1.7719 - val_categorical_accuracy: 0.1023 - lr: 1.0000e-05\n",
            "Epoch 281/340\n",
            "39/39 [==============================] - 3s 72ms/step - loss: 1.7645 - categorical_accuracy: 0.1887 - val_loss: 1.7719 - val_categorical_accuracy: 0.1023 - lr: 1.0000e-05\n",
            "Epoch 282/340\n",
            "39/39 [==============================] - 3s 68ms/step - loss: 1.7645 - categorical_accuracy: 0.1887 - val_loss: 1.7720 - val_categorical_accuracy: 0.1023 - lr: 1.0000e-05\n",
            "Epoch 283/340\n",
            "39/39 [==============================] - 3s 75ms/step - loss: 1.7645 - categorical_accuracy: 0.1887 - val_loss: 1.7719 - val_categorical_accuracy: 0.1023 - lr: 1.0000e-05\n",
            "Epoch 284/340\n",
            "39/39 [==============================] - 3s 80ms/step - loss: 1.7645 - categorical_accuracy: 0.1887 - val_loss: 1.7719 - val_categorical_accuracy: 0.1023 - lr: 1.0000e-05\n",
            "Epoch 285/340\n",
            "39/39 [==============================] - 3s 68ms/step - loss: 1.7645 - categorical_accuracy: 0.1887 - val_loss: 1.7719 - val_categorical_accuracy: 0.1023 - lr: 1.0000e-05\n",
            "Epoch 286/340\n",
            "39/39 [==============================] - 3s 69ms/step - loss: 1.7645 - categorical_accuracy: 0.1887 - val_loss: 1.7718 - val_categorical_accuracy: 0.1023 - lr: 1.0000e-05\n",
            "Epoch 287/340\n",
            "39/39 [==============================] - 3s 69ms/step - loss: 1.7645 - categorical_accuracy: 0.1887 - val_loss: 1.7718 - val_categorical_accuracy: 0.1023 - lr: 1.0000e-05\n",
            "Epoch 288/340\n",
            "39/39 [==============================] - 3s 81ms/step - loss: 1.7645 - categorical_accuracy: 0.1887 - val_loss: 1.7718 - val_categorical_accuracy: 0.1023 - lr: 1.0000e-05\n",
            "Epoch 289/340\n",
            "39/39 [==============================] - 3s 75ms/step - loss: 1.7645 - categorical_accuracy: 0.1887 - val_loss: 1.7718 - val_categorical_accuracy: 0.1023 - lr: 1.0000e-05\n",
            "Epoch 290/340\n",
            "39/39 [==============================] - 3s 69ms/step - loss: 1.7645 - categorical_accuracy: 0.1887 - val_loss: 1.7718 - val_categorical_accuracy: 0.1023 - lr: 1.0000e-05\n",
            "Epoch 291/340\n",
            "39/39 [==============================] - 3s 69ms/step - loss: 1.7645 - categorical_accuracy: 0.1887 - val_loss: 1.7718 - val_categorical_accuracy: 0.1023 - lr: 1.0000e-05\n",
            "Epoch 292/340\n",
            "39/39 [==============================] - 3s 71ms/step - loss: 1.7645 - categorical_accuracy: 0.1887 - val_loss: 1.7718 - val_categorical_accuracy: 0.1023 - lr: 1.0000e-05\n",
            "Epoch 293/340\n",
            "39/39 [==============================] - 3s 85ms/step - loss: 1.7645 - categorical_accuracy: 0.1887 - val_loss: 1.7717 - val_categorical_accuracy: 0.1023 - lr: 1.0000e-05\n",
            "Epoch 294/340\n",
            "39/39 [==============================] - 3s 69ms/step - loss: 1.7645 - categorical_accuracy: 0.1887 - val_loss: 1.7717 - val_categorical_accuracy: 0.1023 - lr: 1.0000e-05\n",
            "Epoch 295/340\n",
            "39/39 [==============================] - 3s 69ms/step - loss: 1.7645 - categorical_accuracy: 0.1887 - val_loss: 1.7717 - val_categorical_accuracy: 0.1023 - lr: 1.0000e-05\n",
            "Epoch 296/340\n",
            "39/39 [==============================] - 3s 70ms/step - loss: 1.7645 - categorical_accuracy: 0.1887 - val_loss: 1.7717 - val_categorical_accuracy: 0.1023 - lr: 1.0000e-05\n",
            "Epoch 297/340\n",
            "39/39 [==============================] - 3s 77ms/step - loss: 1.7645 - categorical_accuracy: 0.1887 - val_loss: 1.7718 - val_categorical_accuracy: 0.1023 - lr: 1.0000e-05\n",
            "Epoch 298/340\n",
            "39/39 [==============================] - 3s 78ms/step - loss: 1.7645 - categorical_accuracy: 0.1887 - val_loss: 1.7717 - val_categorical_accuracy: 0.1023 - lr: 1.0000e-05\n",
            "Epoch 299/340\n",
            "39/39 [==============================] - 3s 67ms/step - loss: 1.7645 - categorical_accuracy: 0.1887 - val_loss: 1.7717 - val_categorical_accuracy: 0.1023 - lr: 1.0000e-05\n",
            "Epoch 300/340\n",
            "39/39 [==============================] - 3s 68ms/step - loss: 1.7645 - categorical_accuracy: 0.1887 - val_loss: 1.7717 - val_categorical_accuracy: 0.1023 - lr: 1.0000e-05\n",
            "Epoch 301/340\n",
            "39/39 [==============================] - 3s 69ms/step - loss: 1.7645 - categorical_accuracy: 0.1887 - val_loss: 1.7717 - val_categorical_accuracy: 0.1023 - lr: 1.0000e-05\n",
            "Epoch 302/340\n",
            "39/39 [==============================] - 3s 82ms/step - loss: 1.7644 - categorical_accuracy: 0.1887 - val_loss: 1.7717 - val_categorical_accuracy: 0.1023 - lr: 1.0000e-06\n",
            "Epoch 303/340\n",
            "39/39 [==============================] - 3s 72ms/step - loss: 1.7644 - categorical_accuracy: 0.1887 - val_loss: 1.7717 - val_categorical_accuracy: 0.1023 - lr: 1.0000e-06\n",
            "Epoch 304/340\n",
            "39/39 [==============================] - 3s 68ms/step - loss: 1.7644 - categorical_accuracy: 0.1887 - val_loss: 1.7717 - val_categorical_accuracy: 0.1023 - lr: 1.0000e-06\n",
            "Epoch 305/340\n",
            "39/39 [==============================] - 3s 68ms/step - loss: 1.7644 - categorical_accuracy: 0.1887 - val_loss: 1.7717 - val_categorical_accuracy: 0.1023 - lr: 1.0000e-06\n",
            "Epoch 306/340\n",
            "39/39 [==============================] - 3s 69ms/step - loss: 1.7644 - categorical_accuracy: 0.1887 - val_loss: 1.7717 - val_categorical_accuracy: 0.1023 - lr: 1.0000e-06\n",
            "Epoch 307/340\n",
            "39/39 [==============================] - 3s 87ms/step - loss: 1.7644 - categorical_accuracy: 0.1887 - val_loss: 1.7717 - val_categorical_accuracy: 0.1023 - lr: 1.0000e-06\n",
            "Epoch 308/340\n",
            "39/39 [==============================] - 3s 67ms/step - loss: 1.7644 - categorical_accuracy: 0.1887 - val_loss: 1.7717 - val_categorical_accuracy: 0.1023 - lr: 1.0000e-06\n",
            "Epoch 309/340\n",
            "39/39 [==============================] - 3s 68ms/step - loss: 1.7644 - categorical_accuracy: 0.1887 - val_loss: 1.7717 - val_categorical_accuracy: 0.1023 - lr: 1.0000e-06\n",
            "Epoch 310/340\n",
            "39/39 [==============================] - 3s 69ms/step - loss: 1.7644 - categorical_accuracy: 0.1887 - val_loss: 1.7717 - val_categorical_accuracy: 0.1023 - lr: 1.0000e-06\n",
            "Epoch 311/340\n",
            "39/39 [==============================] - 3s 79ms/step - loss: 1.7644 - categorical_accuracy: 0.1887 - val_loss: 1.7717 - val_categorical_accuracy: 0.1023 - lr: 1.0000e-06\n",
            "Epoch 312/340\n",
            "39/39 [==============================] - 3s 79ms/step - loss: 1.7644 - categorical_accuracy: 0.1887 - val_loss: 1.7717 - val_categorical_accuracy: 0.1023 - lr: 1.0000e-06\n",
            "Epoch 313/340\n",
            "39/39 [==============================] - 3s 69ms/step - loss: 1.7644 - categorical_accuracy: 0.1887 - val_loss: 1.7717 - val_categorical_accuracy: 0.1023 - lr: 1.0000e-06\n",
            "Epoch 314/340\n",
            "39/39 [==============================] - 3s 68ms/step - loss: 1.7644 - categorical_accuracy: 0.1887 - val_loss: 1.7717 - val_categorical_accuracy: 0.1023 - lr: 1.0000e-06\n",
            "Epoch 315/340\n",
            "39/39 [==============================] - 3s 68ms/step - loss: 1.7644 - categorical_accuracy: 0.1887 - val_loss: 1.7717 - val_categorical_accuracy: 0.1023 - lr: 1.0000e-06\n",
            "Epoch 316/340\n",
            "39/39 [==============================] - 3s 88ms/step - loss: 1.7644 - categorical_accuracy: 0.1887 - val_loss: 1.7717 - val_categorical_accuracy: 0.1023 - lr: 1.0000e-06\n",
            "Epoch 317/340\n",
            "39/39 [==============================] - 3s 67ms/step - loss: 1.7644 - categorical_accuracy: 0.1887 - val_loss: 1.7717 - val_categorical_accuracy: 0.1023 - lr: 1.0000e-06\n",
            "Epoch 318/340\n",
            "39/39 [==============================] - 3s 68ms/step - loss: 1.7644 - categorical_accuracy: 0.1887 - val_loss: 1.7717 - val_categorical_accuracy: 0.1023 - lr: 1.0000e-06\n",
            "Epoch 319/340\n",
            "39/39 [==============================] - 3s 68ms/step - loss: 1.7644 - categorical_accuracy: 0.1887 - val_loss: 1.7717 - val_categorical_accuracy: 0.1023 - lr: 1.0000e-06\n",
            "Epoch 320/340\n",
            "39/39 [==============================] - 3s 75ms/step - loss: 1.7644 - categorical_accuracy: 0.1887 - val_loss: 1.7717 - val_categorical_accuracy: 0.1023 - lr: 1.0000e-06\n",
            "Epoch 321/340\n",
            "39/39 [==============================] - 3s 80ms/step - loss: 1.7644 - categorical_accuracy: 0.1887 - val_loss: 1.7717 - val_categorical_accuracy: 0.1023 - lr: 1.0000e-06\n",
            "Epoch 322/340\n",
            "39/39 [==============================] - 3s 69ms/step - loss: 1.7644 - categorical_accuracy: 0.1887 - val_loss: 1.7717 - val_categorical_accuracy: 0.1023 - lr: 1.0000e-06\n",
            "Epoch 323/340\n",
            "39/39 [==============================] - 3s 68ms/step - loss: 1.7644 - categorical_accuracy: 0.1887 - val_loss: 1.7717 - val_categorical_accuracy: 0.1023 - lr: 1.0000e-06\n",
            "Epoch 324/340\n",
            "39/39 [==============================] - 3s 68ms/step - loss: 1.7644 - categorical_accuracy: 0.1887 - val_loss: 1.7717 - val_categorical_accuracy: 0.1023 - lr: 1.0000e-06\n",
            "Epoch 325/340\n",
            "39/39 [==============================] - 3s 78ms/step - loss: 1.7644 - categorical_accuracy: 0.1887 - val_loss: 1.7717 - val_categorical_accuracy: 0.1023 - lr: 1.0000e-06\n",
            "Epoch 326/340\n",
            "39/39 [==============================] - 3s 75ms/step - loss: 1.7644 - categorical_accuracy: 0.1887 - val_loss: 1.7717 - val_categorical_accuracy: 0.1023 - lr: 1.0000e-06\n",
            "Epoch 327/340\n",
            "39/39 [==============================] - 3s 67ms/step - loss: 1.7644 - categorical_accuracy: 0.1887 - val_loss: 1.7717 - val_categorical_accuracy: 0.1023 - lr: 1.0000e-06\n",
            "Epoch 328/340\n",
            "39/39 [==============================] - 3s 68ms/step - loss: 1.7644 - categorical_accuracy: 0.1887 - val_loss: 1.7717 - val_categorical_accuracy: 0.1023 - lr: 1.0000e-06\n",
            "Epoch 329/340\n",
            "39/39 [==============================] - 3s 68ms/step - loss: 1.7644 - categorical_accuracy: 0.1887 - val_loss: 1.7717 - val_categorical_accuracy: 0.1023 - lr: 1.0000e-06\n",
            "Epoch 330/340\n",
            "39/39 [==============================] - 3s 82ms/step - loss: 1.7644 - categorical_accuracy: 0.1887 - val_loss: 1.7717 - val_categorical_accuracy: 0.1023 - lr: 1.0000e-06\n",
            "Epoch 331/340\n",
            "39/39 [==============================] - 3s 73ms/step - loss: 1.7644 - categorical_accuracy: 0.1887 - val_loss: 1.7717 - val_categorical_accuracy: 0.1023 - lr: 1.0000e-06\n",
            "Epoch 332/340\n",
            "39/39 [==============================] - 3s 69ms/step - loss: 1.7644 - categorical_accuracy: 0.1887 - val_loss: 1.7717 - val_categorical_accuracy: 0.1023 - lr: 1.0000e-06\n",
            "Epoch 333/340\n",
            "39/39 [==============================] - 3s 69ms/step - loss: 1.7644 - categorical_accuracy: 0.1887 - val_loss: 1.7717 - val_categorical_accuracy: 0.1023 - lr: 1.0000e-06\n",
            "Epoch 334/340\n",
            "39/39 [==============================] - 3s 72ms/step - loss: 1.7644 - categorical_accuracy: 0.1887 - val_loss: 1.7717 - val_categorical_accuracy: 0.1023 - lr: 1.0000e-06\n",
            "Epoch 335/340\n",
            "39/39 [==============================] - 3s 85ms/step - loss: 1.7644 - categorical_accuracy: 0.1887 - val_loss: 1.7717 - val_categorical_accuracy: 0.1023 - lr: 1.0000e-06\n",
            "Epoch 336/340\n",
            "39/39 [==============================] - 3s 69ms/step - loss: 1.7644 - categorical_accuracy: 0.1887 - val_loss: 1.7717 - val_categorical_accuracy: 0.1023 - lr: 1.0000e-06\n",
            "Epoch 337/340\n",
            "39/39 [==============================] - 3s 68ms/step - loss: 1.7644 - categorical_accuracy: 0.1887 - val_loss: 1.7717 - val_categorical_accuracy: 0.1023 - lr: 1.0000e-06\n",
            "Epoch 338/340\n",
            "39/39 [==============================] - 3s 69ms/step - loss: 1.7644 - categorical_accuracy: 0.1887 - val_loss: 1.7717 - val_categorical_accuracy: 0.1023 - lr: 1.0000e-06\n",
            "Epoch 339/340\n",
            "39/39 [==============================] - 3s 79ms/step - loss: 1.7644 - categorical_accuracy: 0.1887 - val_loss: 1.7717 - val_categorical_accuracy: 0.1023 - lr: 1.0000e-06\n",
            "Epoch 340/340\n",
            "39/39 [==============================] - 3s 76ms/step - loss: 1.7644 - categorical_accuracy: 0.1887 - val_loss: 1.7717 - val_categorical_accuracy: 0.1023 - lr: 1.0000e-06\n"
          ]
        }
      ]
    },
    {
      "cell_type": "code",
      "metadata": {
        "id": "t3xnV1S7ra_Y"
      },
      "source": [
        "from sklearn.metrics import confusion_matrix\n",
        "import seaborn as sns\n",
        "import matplotlib.pyplot as plt"
      ],
      "execution_count": null,
      "outputs": []
    },
    {
      "cell_type": "code",
      "source": [
        "# Loss, Accuracy presentation\n",
        "\n",
        "# Plot history: Loss\n",
        "plt.plot(history.history['loss'], label='Loss (training data)')\n",
        "plt.plot(history.history['val_loss'], label='Loss (validation data)')\n",
        "plt.title('Loss for train and validation')\n",
        "plt.ylabel('Loss value')\n",
        "plt.xlabel('No. epoch')\n",
        "plt.legend(loc=\"upper left\")\n",
        "plt.show()\n",
        "\n",
        "#Plot history: Accuracy\n",
        "plt.plot(history.history['categorical_accuracy'], label='Acc (training data)')\n",
        "plt.plot(history.history['val_categorical_accuracy'], label='Acc (validation data)')\n",
        "plt.title('Model accuracy')\n",
        "plt.ylabel('Acc %')\n",
        "plt.xlabel('No. epoch')\n",
        "plt.legend(loc=\"upper left\")\n",
        "plt.show()"
      ],
      "metadata": {
        "colab": {
          "base_uri": "https://localhost:8080/",
          "height": 927
        },
        "id": "i7Mj2DLvyja2",
        "outputId": "d44dba3a-54cb-4a0c-82e8-f4914e670dbf"
      },
      "execution_count": null,
      "outputs": [
        {
          "output_type": "display_data",
          "data": {
            "text/plain": [
              "<Figure size 640x480 with 1 Axes>"
            ],
            "image/png": "[encoded data removed]"
          },
          "metadata": {}
        },
        {
          "output_type": "display_data",
          "data": {
            "text/plain": [
              "<Figure size 640x480 with 1 Axes>"
            ],
            "image/png": "[encoded data removed]"
          },
          "metadata": {}
        }
      ]
    },
    {
      "cell_type": "code",
      "metadata": {
        "colab": {
          "base_uri": "https://localhost:8080/",
          "height": 573
        },
        "id": "nu3eLmdtNlCF",
        "outputId": "741c353a-43d4-44ef-cf42-a04d55db05db"
      },
      "source": [
        "# Loss, Accuracy presentation\n",
        "\n",
        "# Plot history: Loss\n",
        "plt.plot(history.history['loss'], label='Loss (training data)')\n",
        "plt.plot(history.history['val_loss'], label='Loss (validation data)')\n",
        "plt.title('Loss for train and validation')\n",
        "plt.ylabel('Loss value')\n",
        "plt.xlabel('No. epoch')\n",
        "plt.legend(loc=\"upper left\")\n",
        "plt.show()\n",
        "\n",
        "#Plot history: Accuracy\n",
        "plt.plot(history.history['categorical_accuracy'], label='Acc (training data)')\n",
        "plt.plot(history.history['val_categorical_accuracy'], label='Acc (validation data)')\n",
        "plt.title('Model accuracy')\n",
        "plt.ylabel('Acc %')\n",
        "plt.xlabel('No. epoch')\n",
        "plt.legend(loc=\"upper left\")\n",
        "plt.show()"
      ],
      "execution_count": null,
      "outputs": [
        {
          "output_type": "display_data",
          "data": {
            "image/png": "[encoded data removed]",
            "text/plain": [
              "<Figure size 432x288 with 1 Axes>"
            ]
          },
          "metadata": {
            "tags": [],
            "needs_background": "light"
          }
        },
        {
          "output_type": "display_data",
          "data": {
            "image/png": "[encoded data removed]",
            "text/plain": [
              "<Figure size 432x288 with 1 Axes>"
            ]
          },
          "metadata": {
            "tags": [],
            "needs_background": "light"
          }
        }
      ]
    },
    {
      "cell_type": "markdown",
      "metadata": {
        "id": "GgvK5IJmA9Tv"
      },
      "source": [
        "**Val Set Score**"
      ]
    },
    {
      "cell_type": "code",
      "source": [
        "# Validation score\n",
        "loss,acc = model.evaluate(x_val, y_val_class, verbose=2)"
      ],
      "metadata": {
        "colab": {
          "base_uri": "https://localhost:8080/"
        },
        "id": "miRaZtg_yloN",
        "outputId": "d07e4995-2a65-40c8-8883-625d58d15b78"
      },
      "execution_count": null,
      "outputs": [
        {
          "output_type": "stream",
          "name": "stdout",
          "text": [
            "3/3 - 0s - loss: 1.7624 - categorical_accuracy: 0.2841 - 66ms/epoch - 22ms/step\n"
          ]
        }
      ]
    },
    {
      "cell_type": "code",
      "metadata": {
        "colab": {
          "base_uri": "https://localhost:8080/"
        },
        "id": "Bc6qcBGOMHv7",
        "outputId": "c1c4785e-ddcb-4cc2-ca80-f9a07455e3ab"
      },
      "source": [
        "# Validation score\n",
        "loss,acc = model.evaluate(x_val, y_val_class, verbose=2)"
      ],
      "execution_count": null,
      "outputs": [
        {
          "output_type": "stream",
          "text": [
            "12/12 - 2s - loss: 0.5993 - categorical_accuracy: 0.8723\n"
          ],
          "name": "stdout"
        }
      ]
    },
    {
      "cell_type": "markdown",
      "metadata": {
        "id": "Rlu9rUnT_vjB"
      },
      "source": [
        "**Val Set Confussion Matrix**"
      ]
    },
    {
      "cell_type": "code",
      "source": [
        "import pandas as pd\n",
        "from sklearn.metrics import confusion_matrix\n",
        "import seaborn as sns\n",
        "import matplotlib.pyplot as plt\n",
        "\n",
        "# Assuming you have already defined your confusion matrix 'cm'\n",
        "\n",
        "index = ['neutral', 'calm', 'happy', 'sad', 'angry', 'fearful', 'disgust', 'surprised']\n",
        "columns = ['neutral', 'calm', 'happy', 'sad', 'angry', 'fearful', 'disgust', 'surprised']\n",
        "\n",
        "# Create a DataFrame for the confusion matrix\n",
        "cm_df = pd.DataFrame(cm, index=index, columns=columns)\n",
        "\n",
        "# Create a heatmap for visualization\n",
        "plt.figure(figsize=(12, 8))\n",
        "ax = plt.axes()\n",
        "sns.heatmap(cm_df, ax=ax, cmap='PuBu', fmt=\"d\", annot=True)\n",
        "ax.set_ylabel('True emotion')\n",
        "ax.set_xlabel('Predicted emotion')\n",
        "plt.show()\n"
      ],
      "metadata": {
        "colab": {
          "base_uri": "https://localhost:8080/",
          "height": 408
        },
        "id": "g9WVU2KFyn2g",
        "outputId": "814e3074-61dd-470e-f802-d7b94bcb0702"
      },
      "execution_count": null,
      "outputs": [
        {
          "output_type": "error",
          "ename": "ValueError",
          "evalue": "ignored",
          "traceback": [
            "\u001b[0;31m---------------------------------------------------------------------------\u001b[0m",
            "\u001b[0;31mValueError\u001b[0m                                Traceback (most recent call last)",
            "\u001b[0;32m<ipython-input-35-65eaab3eaaa2>\u001b[0m in \u001b[0;36m<cell line: 12>\u001b[0;34m()\u001b[0m\n\u001b[1;32m     10\u001b[0m \u001b[0;34m\u001b[0m\u001b[0m\n\u001b[1;32m     11\u001b[0m \u001b[0;31m# Create a DataFrame for the confusion matrix\u001b[0m\u001b[0;34m\u001b[0m\u001b[0;34m\u001b[0m\u001b[0m\n\u001b[0;32m---> 12\u001b[0;31m \u001b[0mcm_df\u001b[0m \u001b[0;34m=\u001b[0m \u001b[0mpd\u001b[0m\u001b[0;34m.\u001b[0m\u001b[0mDataFrame\u001b[0m\u001b[0;34m(\u001b[0m\u001b[0mcm\u001b[0m\u001b[0;34m,\u001b[0m \u001b[0mindex\u001b[0m\u001b[0;34m=\u001b[0m\u001b[0mindex\u001b[0m\u001b[0;34m,\u001b[0m \u001b[0mcolumns\u001b[0m\u001b[0;34m=\u001b[0m\u001b[0mcolumns\u001b[0m\u001b[0;34m)\u001b[0m\u001b[0;34m\u001b[0m\u001b[0;34m\u001b[0m\u001b[0m\n\u001b[0m\u001b[1;32m     13\u001b[0m \u001b[0;34m\u001b[0m\u001b[0m\n\u001b[1;32m     14\u001b[0m \u001b[0;31m# Create a heatmap for visualization\u001b[0m\u001b[0;34m\u001b[0m\u001b[0;34m\u001b[0m\u001b[0m\n",
            "\u001b[0;32m/usr/local/lib/python3.10/dist-packages/pandas/core/frame.py\u001b[0m in \u001b[0;36m__init__\u001b[0;34m(self, data, index, columns, dtype, copy)\u001b[0m\n\u001b[1;32m    720\u001b[0m                 )\n\u001b[1;32m    721\u001b[0m             \u001b[0;32melse\u001b[0m\u001b[0;34m:\u001b[0m\u001b[0;34m\u001b[0m\u001b[0;34m\u001b[0m\u001b[0m\n\u001b[0;32m--> 722\u001b[0;31m                 mgr = ndarray_to_mgr(\n\u001b[0m\u001b[1;32m    723\u001b[0m                     \u001b[0mdata\u001b[0m\u001b[0;34m,\u001b[0m\u001b[0;34m\u001b[0m\u001b[0;34m\u001b[0m\u001b[0m\n\u001b[1;32m    724\u001b[0m                     \u001b[0mindex\u001b[0m\u001b[0;34m,\u001b[0m\u001b[0;34m\u001b[0m\u001b[0;34m\u001b[0m\u001b[0m\n",
            "\u001b[0;32m/usr/local/lib/python3.10/dist-packages/pandas/core/internals/construction.py\u001b[0m in \u001b[0;36mndarray_to_mgr\u001b[0;34m(values, index, columns, dtype, copy, typ)\u001b[0m\n\u001b[1;32m    347\u001b[0m     )\n\u001b[1;32m    348\u001b[0m \u001b[0;34m\u001b[0m\u001b[0m\n\u001b[0;32m--> 349\u001b[0;31m     \u001b[0m_check_values_indices_shape_match\u001b[0m\u001b[0;34m(\u001b[0m\u001b[0mvalues\u001b[0m\u001b[0;34m,\u001b[0m \u001b[0mindex\u001b[0m\u001b[0;34m,\u001b[0m \u001b[0mcolumns\u001b[0m\u001b[0;34m)\u001b[0m\u001b[0;34m\u001b[0m\u001b[0;34m\u001b[0m\u001b[0m\n\u001b[0m\u001b[1;32m    350\u001b[0m \u001b[0;34m\u001b[0m\u001b[0m\n\u001b[1;32m    351\u001b[0m     \u001b[0;32mif\u001b[0m \u001b[0mtyp\u001b[0m \u001b[0;34m==\u001b[0m \u001b[0;34m\"array\"\u001b[0m\u001b[0;34m:\u001b[0m\u001b[0;34m\u001b[0m\u001b[0;34m\u001b[0m\u001b[0m\n",
            "\u001b[0;32m/usr/local/lib/python3.10/dist-packages/pandas/core/internals/construction.py\u001b[0m in \u001b[0;36m_check_values_indices_shape_match\u001b[0;34m(values, index, columns)\u001b[0m\n\u001b[1;32m    418\u001b[0m         \u001b[0mpassed\u001b[0m \u001b[0;34m=\u001b[0m \u001b[0mvalues\u001b[0m\u001b[0;34m.\u001b[0m\u001b[0mshape\u001b[0m\u001b[0;34m\u001b[0m\u001b[0;34m\u001b[0m\u001b[0m\n\u001b[1;32m    419\u001b[0m         \u001b[0mimplied\u001b[0m \u001b[0;34m=\u001b[0m \u001b[0;34m(\u001b[0m\u001b[0mlen\u001b[0m\u001b[0;34m(\u001b[0m\u001b[0mindex\u001b[0m\u001b[0;34m)\u001b[0m\u001b[0;34m,\u001b[0m \u001b[0mlen\u001b[0m\u001b[0;34m(\u001b[0m\u001b[0mcolumns\u001b[0m\u001b[0;34m)\u001b[0m\u001b[0;34m)\u001b[0m\u001b[0;34m\u001b[0m\u001b[0;34m\u001b[0m\u001b[0m\n\u001b[0;32m--> 420\u001b[0;31m         \u001b[0;32mraise\u001b[0m \u001b[0mValueError\u001b[0m\u001b[0;34m(\u001b[0m\u001b[0;34mf\"Shape of passed values is {passed}, indices imply {implied}\"\u001b[0m\u001b[0;34m)\u001b[0m\u001b[0;34m\u001b[0m\u001b[0;34m\u001b[0m\u001b[0m\n\u001b[0m\u001b[1;32m    421\u001b[0m \u001b[0;34m\u001b[0m\u001b[0m\n\u001b[1;32m    422\u001b[0m \u001b[0;34m\u001b[0m\u001b[0m\n",
            "\u001b[0;31mValueError\u001b[0m: Shape of passed values is (2, 2), indices imply (8, 8)"
          ]
        }
      ]
    },
    {
      "cell_type": "code",
      "metadata": {
        "colab": {
          "base_uri": "https://localhost:8080/",
          "height": 514
        },
        "id": "3Icd1yFHra_Z",
        "outputId": "84bf81c6-84f8-4bd0-9a65-e6e87fb697f9"
      },
      "source": [
        "# Validation Confusion matrix\n",
        "\n",
        "y_val_class = np.argmax(y_val_class, axis=1)\n",
        "predictions = model.predict(x_val)\n",
        "y_pred_class = np.argmax(predictions, axis=1)\n",
        "\n",
        "cm=confusion_matrix(y_val_class, y_pred_class)\n",
        "\n",
        "index = ['neutral', 'calm', 'happy', 'sad', 'angry', 'fearful', 'disgust', 'surprised']\n",
        "columns = ['neutral', 'calm', 'happy', 'sad', 'angry', 'fearful', 'disgust', 'surprised']\n",
        "\n",
        "cm_df = pd.DataFrame(cm,index,columns)\n",
        "plt.figure(figsize=(12,8))\n",
        "ax = plt.axes()\n",
        "\n",
        "sns.heatmap(cm_df, ax = ax, cmap = 'PuBu', fmt=\"d\", annot=True)\n",
        "ax.set_ylabel('True emotion')\n",
        "ax.set_xlabel('Predicted emotion')"
      ],
      "execution_count": null,
      "outputs": [
        {
          "output_type": "execute_result",
          "data": {
            "text/plain": [
              "Text(0.5, 51.0, 'Predicted emotion')"
            ]
          },
          "metadata": {
            "tags": []
          },
          "execution_count": 12
        },
        {
          "output_type": "display_data",
          "data": {
            "image/png": "[encoded data removed]",
            "text/plain": [
              "<Figure size 864x576 with 2 Axes>"
            ]
          },
          "metadata": {
            "tags": [],
            "needs_background": "light"
          }
        }
      ]
    },
    {
      "cell_type": "markdown",
      "metadata": {
        "id": "m0TNmOTy_3D2"
      },
      "source": [
        "**Validation Set Predicted emotions accuracy**"
      ]
    },
    {
      "cell_type": "code",
      "source": [
        "# Validation set prediction accuracy rates\n",
        "\n",
        "values = cm.diagonal()\n",
        "row_sum = np.sum(cm,axis=1)\n",
        "acc = values / row_sum\n",
        "\n",
        "print('Validation set predicted emotions accuracy:')\n",
        "for e in range(0, len(values)):\n",
        "    print(index[e],':', f\"{(acc[e]):0.4f}\")"
      ],
      "metadata": {
        "colab": {
          "base_uri": "https://localhost:8080/"
        },
        "id": "MIfzzzLcyp0Q",
        "outputId": "e4347a54-7f68-47b0-a79b-2e4ff34ce695"
      },
      "execution_count": null,
      "outputs": [
        {
          "output_type": "stream",
          "name": "stdout",
          "text": [
            "Validation set predicted emotions accuracy:\n",
            "neutral : 0.0000\n",
            "calm : nan\n"
          ]
        },
        {
          "output_type": "stream",
          "name": "stderr",
          "text": [
            "<ipython-input-34-42ae9e950c21>:5: RuntimeWarning: invalid value encountered in divide\n",
            "  acc = values / row_sum\n"
          ]
        }
      ]
    },
    {
      "cell_type": "code",
      "metadata": {
        "colab": {
          "base_uri": "https://localhost:8080/"
        },
        "id": "j70DNePpra_c",
        "outputId": "c14ab26e-5544-4fd1-c462-3033694983dd"
      },
      "source": [
        "# Validation set prediction accuracy rates\n",
        "\n",
        "values = cm.diagonal()\n",
        "row_sum = np.sum(cm,axis=1)\n",
        "acc = values / row_sum\n",
        "\n",
        "print('Validation set predicted emotions accuracy:')\n",
        "for e in range(0, len(values)):\n",
        "    print(index[e],':', f\"{(acc[e]):0.4f}\")"
      ],
      "execution_count": null,
      "outputs": [
        {
          "output_type": "stream",
          "text": [
            "Validation set predicted emotions accuracy:\n",
            "neutral : 0.8919\n",
            "calm : 0.6154\n",
            "happy : 0.8333\n",
            "sad : 0.8387\n",
            "angry : 0.9608\n",
            "fearful : 0.8667\n",
            "disgust : 0.9286\n",
            "surprised : 0.8919\n"
          ],
          "name": "stdout"
        }
      ]
    },
    {
      "cell_type": "markdown",
      "metadata": {
        "id": "Gv9LdSWcfuWb"
      },
      "source": [
        "## **Save & Load model, weights**\n"
      ]
    },
    {
      "cell_type": "code",
      "metadata": {
        "id": "8ybMruIrra_d"
      },
      "source": [
        "# Saving model & weights\n",
        "\n",
        "from keras.models import model_from_json\n",
        "from keras.models import load_model\n",
        "\n",
        "model_json = model.to_json()\n",
        "saved_model_path = '/content/drive/My Drive/Colab Notebooks/model8723.json'\n",
        "saved_weights_path = '/content/drive/My Drive/Colab Notebooks/model8723_weights.h5'\n",
        "\n",
        "\n",
        "with open(saved_model_path, \"w\") as json_file:\n",
        "    json_file.write(model_json)\n",
        "\n",
        "model.save_weights(saved_weights_path)\n",
        "print(\"Saved model to disk\")\n"
      ],
      "execution_count": null,
      "outputs": []
    },
    {
      "cell_type": "code",
      "metadata": {
        "id": "7CvsDF6cOa3z",
        "colab": {
          "base_uri": "https://localhost:8080/",
          "height": 422
        },
        "outputId": "57ff07aa-cc3b-4ec3-e038-b1d022e6156c"
      },
      "source": [
        "# Reading the model from JSON file\n",
        "\n",
        "saved_model_path = '/content/drive/My Drive/Colab Notebooks/model8723.json'\n",
        "saved_weights_path = '/content/drive/My Drive/Colab Notebooks/model8723_weights.h5'\n",
        "\n",
        "with open(saved_model_path , 'r') as json_file:\n",
        "    json_savedModel = json_file.read()\n",
        "\n",
        "# Loading the model architecture, weights\n",
        "model = tf.keras.models.model_from_json(json_savedModel)\n",
        "model.load_weights(saved_weights_path)\n",
        "\n",
        "# Compiling the model with similar parameters as the original model.\n",
        "model.compile(loss='categorical_crossentropy',\n",
        "                optimizer='RMSProp',\n",
        "                metrics=['categorical_accuracy'])\n",
        "\n",
        "# Model's structure visualization\n",
        "tf.keras.utils.plot_model(model, to_file='model.png', show_shapes=True, show_layer_names=True)"
      ],
      "execution_count": null,
      "outputs": [
        {
          "output_type": "execute_result",
          "data": {
            "image/png": "[encoded data removed]",
            "text/plain": [
              "<IPython.core.display.Image object>"
            ]
          },
          "metadata": {
            "tags": []
          },
          "execution_count": 4
        }
      ]
    },
    {
      "cell_type": "code",
      "metadata": {
        "id": "9aw0_8VfOa30"
      },
      "source": [
        "# Loading x_test, y_test json files, and converting to np.arrays\n",
        "\n",
        "x_test = load( 'x_test_data.json')\n",
        "x_test = np.asarray(x_test).astype('float32')\n",
        "\n",
        "y_test = load('y_test_data.json')\n",
        "y_test = np.asarray(y_test).astype('int8')\n",
        "\n",
        "y_test_class = tf.keras.utils.to_categorical(y_test, 8, dtype = 'int8')"
      ],
      "execution_count": null,
      "outputs": []
    },
    {
      "cell_type": "markdown",
      "metadata": {
        "id": "6gI4LShDAIIm"
      },
      "source": [
        "## **Test Set Evaluation**"
      ]
    },
    {
      "cell_type": "markdown",
      "metadata": {
        "id": "PvGRP5ZMBKpz"
      },
      "source": [
        "**Test Set Score**"
      ]
    },
    {
      "cell_type": "code",
      "metadata": {
        "id": "b56-z_GUOa31",
        "outputId": "bd313c2f-f11d-4600-f1b7-1f8e6761253e"
      },
      "source": [
        "loss, acc = model.evaluate(x_test, y_test_class, verbose=2)"
      ],
      "execution_count": null,
      "outputs": [
        {
          "output_type": "stream",
          "text": [
            "6/6 - 1s - loss: 0.5561 - categorical_accuracy: 0.8447\n"
          ],
          "name": "stdout"
        }
      ]
    },
    {
      "cell_type": "markdown",
      "metadata": {
        "id": "MCZ384rgBNeT"
      },
      "source": [
        "**Test Set Confussion Matrix**"
      ]
    },
    {
      "cell_type": "code",
      "metadata": {
        "id": "9ssa4HRVOa31",
        "outputId": "4d2657e5-36f4-49cd-ded4-39e94f86a64a"
      },
      "source": [
        "# Test set Confusion matrix\n",
        "\n",
        "y_test_class = np.argmax(y_test_class, axis=1)\n",
        "predictions = model.predict(x_test)\n",
        "y_pred_class = np.argmax(predictions, axis=1)\n",
        "\n",
        "cm=confusion_matrix(y_test_class, y_pred_class)\n",
        "\n",
        "index = ['neutral', 'calm', 'happy', 'sad', 'angry', 'fearful', 'disgust', 'surprised']\n",
        "columns = ['neutral', 'calm', 'happy', 'sad', 'angry', 'fearful', 'disgust', 'surprised']\n",
        "\n",
        "cm_df = pd.DataFrame(cm,index,columns)\n",
        "plt.figure(figsize=(12,8))\n",
        "ax = plt.axes()\n",
        "\n",
        "sns.heatmap(cm_df, ax = ax, cmap = 'BuGn', fmt=\"d\", annot=True)\n",
        "ax.set_ylabel('True emotion')\n",
        "ax.set_xlabel('Predicted emotion')"
      ],
      "execution_count": null,
      "outputs": [
        {
          "output_type": "execute_result",
          "data": {
            "text/plain": [
              "Text(0.5, 51.0, 'Predicted emotion')"
            ]
          },
          "metadata": {
            "tags": []
          },
          "execution_count": 21
        },
        {
          "output_type": "display_data",
          "data": {
            "image/png": "[encoded data removed]",
            "text/plain": [
              "<Figure size 864x576 with 2 Axes>"
            ]
          },
          "metadata": {
            "tags": [],
            "needs_background": "light"
          }
        }
      ]
    },
    {
      "cell_type": "markdown",
      "metadata": {
        "id": "-Lm8suD-BUrl"
      },
      "source": [
        "**Test Set Predicted emotions accuracy**"
      ]
    },
    {
      "cell_type": "code",
      "metadata": {
        "id": "Hwbkmv2yOa32",
        "outputId": "7240b418-c619-4df9-f077-0361f0f452f1"
      },
      "source": [
        "# Test set prediction accuracy rates\n",
        "\n",
        "values = cm.diagonal()\n",
        "row_sum = np.sum(cm,axis=1)\n",
        "acc = values / row_sum\n",
        "\n",
        "print('Test set predicted emotions accuracy:')\n",
        "for e in range(0, len(values)):\n",
        "    print(index[e],':', f\"{(acc[e]):0.4f}\")"
      ],
      "execution_count": null,
      "outputs": [
        {
          "output_type": "stream",
          "text": [
            "Test set predicted emotions accuracy:\n",
            "neutral : 0.8947\n",
            "calm : 0.8000\n",
            "happy : 0.9524\n",
            "sad : 0.8696\n",
            "angry : 0.8462\n",
            "fearful : 0.7778\n",
            "disgust : 0.8696\n",
            "surprised : 0.7143\n"
          ],
          "name": "stdout"
        }
      ]
    },
    {
      "cell_type": "markdown",
      "metadata": {
        "id": "L_2dMqF6lFtx"
      },
      "source": [
        "# **RESULTS & CONCLUSIONS**\n",
        "As seen, the validation set accuracy of the model had come up to 87.23% and the test set accuracy had reached 84.47% with overfitting in the training process starting around the 100th epoch. Although various regulations have been placed in earlier tryouts, they had restricted the accuracy from reaching its maximum value. A ModelCheckpoint is applied, saving the best weights according to the model's accuracy, thus the overfitting is bypassed.\n",
        "\n",
        "Within the next part of the study in which the model will be used as a Real-time SER, The inputs will be processed similarly as the data used by the model, to gain similarity and therefore, precision."
      ]
    }
  ]
}